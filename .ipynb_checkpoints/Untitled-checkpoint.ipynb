{
 "cells": [
  {
   "cell_type": "code",
   "execution_count": 19,
   "metadata": {},
   "outputs": [
    {
     "name": "stderr",
     "output_type": "stream",
     "text": [
      "C:\\Users\\Anjali\\Anaconda3\\lib\\site-packages\\IPython\\core\\interactiveshell.py:3185: DtypeWarning: Columns (11,12,19,37,44,58) have mixed types. Specify dtype option on import or set low_memory=False.\n",
      "  if (yield from self.run_code(code, result)):\n"
     ]
    },
    {
     "ename": "KeyboardInterrupt",
     "evalue": "",
     "output_type": "error",
     "traceback": [
      "\u001b[1;31m---------------------------------------------------------------------------\u001b[0m",
      "\u001b[1;31mKeyboardInterrupt\u001b[0m                         Traceback (most recent call last)",
      "\u001b[1;32m<ipython-input-19-5d31a8596b86>\u001b[0m in \u001b[0;36m<module>\u001b[1;34m\u001b[0m\n\u001b[0;32m      1\u001b[0m \u001b[1;32mimport\u001b[0m \u001b[0mpandas\u001b[0m \u001b[1;32mas\u001b[0m \u001b[0mpd\u001b[0m\u001b[1;33m\u001b[0m\u001b[1;33m\u001b[0m\u001b[0m\n\u001b[1;32m----> 2\u001b[1;33m \u001b[1;32mfrom\u001b[0m \u001b[0mPreprocessingStep\u001b[0m \u001b[1;32mimport\u001b[0m \u001b[0mpreprocessInput\u001b[0m\u001b[1;33m\u001b[0m\u001b[1;33m\u001b[0m\u001b[0m\n\u001b[0m\u001b[0;32m      3\u001b[0m \u001b[1;32mfrom\u001b[0m \u001b[0mPreprocessingStep\u001b[0m \u001b[1;32mimport\u001b[0m \u001b[0mimputeColumnValues\u001b[0m\u001b[1;33m\u001b[0m\u001b[1;33m\u001b[0m\u001b[0m\n",
      "\u001b[1;32m~\\Documents\\GitHub\\San_Francisco_Fire_Dataset_Analysis\\PreprocessingStep.py\u001b[0m in \u001b[0;36m<module>\u001b[1;34m\u001b[0m\n\u001b[0;32m    683\u001b[0m \u001b[1;33m\u001b[0m\u001b[0m\n\u001b[0;32m    684\u001b[0m \u001b[0mread_df\u001b[0m \u001b[1;33m=\u001b[0m \u001b[0mpd\u001b[0m\u001b[1;33m.\u001b[0m\u001b[0mread_csv\u001b[0m\u001b[1;33m(\u001b[0m\u001b[1;34m'Fire_Incidents.tsv'\u001b[0m\u001b[1;33m,\u001b[0m \u001b[0msep\u001b[0m\u001b[1;33m=\u001b[0m\u001b[1;34m'\\t'\u001b[0m\u001b[1;33m)\u001b[0m\u001b[1;33m\u001b[0m\u001b[1;33m\u001b[0m\u001b[0m\n\u001b[1;32m--> 685\u001b[1;33m \u001b[0mdf_feature\u001b[0m \u001b[1;33m=\u001b[0m \u001b[0mpreprocessInput\u001b[0m\u001b[1;33m(\u001b[0m\u001b[0mread_df\u001b[0m\u001b[1;33m)\u001b[0m\u001b[1;33m\u001b[0m\u001b[1;33m\u001b[0m\u001b[0m\n\u001b[0m\u001b[0;32m    686\u001b[0m \u001b[0mdf_feature\u001b[0m \u001b[1;33m=\u001b[0m \u001b[0mdf_feature\u001b[0m\u001b[1;33m.\u001b[0m\u001b[0mdrop_duplicates\u001b[0m\u001b[1;33m(\u001b[0m\u001b[1;33m)\u001b[0m\u001b[1;33m\u001b[0m\u001b[1;33m\u001b[0m\u001b[0m\n\u001b[0;32m    687\u001b[0m \u001b[0mdf_y\u001b[0m \u001b[1;33m=\u001b[0m \u001b[0mdf_feature\u001b[0m\u001b[1;33m[\u001b[0m\u001b[1;34m'Suppression Personnel'\u001b[0m\u001b[1;33m]\u001b[0m\u001b[1;33m\u001b[0m\u001b[1;33m\u001b[0m\u001b[0m\n",
      "\u001b[1;32m~\\Documents\\GitHub\\San_Francisco_Fire_Dataset_Analysis\\PreprocessingStep.py\u001b[0m in \u001b[0;36mpreprocessInput\u001b[1;34m(read_df)\u001b[0m\n\u001b[0;32m    661\u001b[0m  ,'Other Personnel', 'Action Taken Other', 'Action Taken Secondary', 'First Unit On Scene', 'Call Number','Station Area' ], axis=1)\n\u001b[0;32m    662\u001b[0m     \u001b[0mdf_X1\u001b[0m\u001b[1;33m[\u001b[0m\u001b[1;34m'Weekday'\u001b[0m\u001b[1;33m]\u001b[0m \u001b[1;33m=\u001b[0m \u001b[0mdf_X1\u001b[0m\u001b[1;33m[\u001b[0m\u001b[1;34m'Alarm DtTm'\u001b[0m\u001b[1;33m]\u001b[0m\u001b[1;33m.\u001b[0m\u001b[0mapply\u001b[0m\u001b[1;33m(\u001b[0m\u001b[1;32mlambda\u001b[0m \u001b[0mx\u001b[0m\u001b[1;33m:\u001b[0m \u001b[0mconvert_date_to_weekday\u001b[0m\u001b[1;33m(\u001b[0m\u001b[0mx\u001b[0m\u001b[1;33m)\u001b[0m\u001b[1;33m)\u001b[0m\u001b[1;33m\u001b[0m\u001b[1;33m\u001b[0m\u001b[0m\n\u001b[1;32m--> 663\u001b[1;33m     \u001b[0mdf_X1\u001b[0m\u001b[1;33m[\u001b[0m\u001b[1;34m'Hour'\u001b[0m\u001b[1;33m]\u001b[0m \u001b[1;33m=\u001b[0m \u001b[0mdf_X1\u001b[0m\u001b[1;33m[\u001b[0m\u001b[1;34m'Alarm DtTm'\u001b[0m\u001b[1;33m]\u001b[0m\u001b[1;33m.\u001b[0m\u001b[0mapply\u001b[0m\u001b[1;33m(\u001b[0m\u001b[1;32mlambda\u001b[0m \u001b[0mx\u001b[0m\u001b[1;33m:\u001b[0m \u001b[0mconvert_date_to_hour\u001b[0m\u001b[1;33m(\u001b[0m\u001b[0mx\u001b[0m\u001b[1;33m)\u001b[0m\u001b[1;33m)\u001b[0m\u001b[1;33m\u001b[0m\u001b[1;33m\u001b[0m\u001b[0m\n\u001b[0m\u001b[0;32m    664\u001b[0m     \u001b[0mdf_X1\u001b[0m\u001b[1;33m[\u001b[0m\u001b[1;34m'Month'\u001b[0m\u001b[1;33m]\u001b[0m \u001b[1;33m=\u001b[0m \u001b[0mdf_X1\u001b[0m\u001b[1;33m[\u001b[0m\u001b[1;34m'Alarm DtTm'\u001b[0m\u001b[1;33m]\u001b[0m\u001b[1;33m.\u001b[0m\u001b[0mapply\u001b[0m\u001b[1;33m(\u001b[0m\u001b[1;32mlambda\u001b[0m \u001b[0mx\u001b[0m\u001b[1;33m:\u001b[0m \u001b[0mconvert_date_to_month\u001b[0m\u001b[1;33m(\u001b[0m\u001b[0mx\u001b[0m\u001b[1;33m)\u001b[0m\u001b[1;33m)\u001b[0m\u001b[1;33m\u001b[0m\u001b[1;33m\u001b[0m\u001b[0m\n\u001b[0;32m    665\u001b[0m     \u001b[0mdf_X2\u001b[0m \u001b[1;33m=\u001b[0m \u001b[0mdf_X1\u001b[0m\u001b[1;33m.\u001b[0m\u001b[0mdrop\u001b[0m\u001b[1;33m(\u001b[0m\u001b[1;33m[\u001b[0m\u001b[1;34m'Exposure Number'\u001b[0m\u001b[1;33m,\u001b[0m\u001b[1;34m'Location'\u001b[0m\u001b[1;33m,\u001b[0m \u001b[1;34m'Ignition Factor Secondary'\u001b[0m\u001b[1;33m,\u001b[0m \u001b[1;34m'Heat Source'\u001b[0m\u001b[1;33m,\u001b[0m\u001b[1;34m'Floor of Fire Origin'\u001b[0m\u001b[1;33m,\u001b[0m\u001b[1;34m'Box'\u001b[0m \u001b[1;33m,\u001b[0m\u001b[1;34m'Structure Status'\u001b[0m\u001b[1;33m,\u001b[0m\u001b[1;34m'Alarm DtTm'\u001b[0m\u001b[1;33m,\u001b[0m \u001b[1;34m'Area of Fire Origin'\u001b[0m\u001b[1;33m,\u001b[0m \u001b[1;34m'Incident Date'\u001b[0m\u001b[1;33m,\u001b[0m \u001b[1;34m'Incident Number'\u001b[0m\u001b[1;33m,\u001b[0m \u001b[1;34m'Action Taken Primary'\u001b[0m\u001b[1;33m,\u001b[0m\u001b[1;34m'Ignition Factor Primary'\u001b[0m\u001b[1;33m,\u001b[0m \u001b[1;34m'Structure Type'\u001b[0m\u001b[1;33m,\u001b[0m \u001b[1;34m'Automatic Extinguishing System Present'\u001b[0m\u001b[1;33m,\u001b[0m\u001b[1;34m'Detectors Present'\u001b[0m\u001b[1;33m,\u001b[0m\u001b[1;34m'Property Use'\u001b[0m\u001b[1;33m,\u001b[0m\u001b[1;34m'Estimated Property Loss'\u001b[0m\u001b[1;33m,\u001b[0m\u001b[1;34m'Estimated Contents Loss'\u001b[0m\u001b[1;33m,\u001b[0m \u001b[1;34m'Detector Alerted Occupants'\u001b[0m\u001b[1;33m,\u001b[0m \u001b[1;34m'Address'\u001b[0m\u001b[1;33m]\u001b[0m\u001b[1;33m,\u001b[0m \u001b[0maxis\u001b[0m\u001b[1;33m=\u001b[0m\u001b[1;36m1\u001b[0m\u001b[1;33m)\u001b[0m\u001b[1;33m\u001b[0m\u001b[1;33m\u001b[0m\u001b[0m\n",
      "\u001b[1;32m~\\Anaconda3\\lib\\site-packages\\pandas\\core\\series.py\u001b[0m in \u001b[0;36mapply\u001b[1;34m(self, func, convert_dtype, args, **kwds)\u001b[0m\n\u001b[0;32m   3192\u001b[0m             \u001b[1;32melse\u001b[0m\u001b[1;33m:\u001b[0m\u001b[1;33m\u001b[0m\u001b[1;33m\u001b[0m\u001b[0m\n\u001b[0;32m   3193\u001b[0m                 \u001b[0mvalues\u001b[0m \u001b[1;33m=\u001b[0m \u001b[0mself\u001b[0m\u001b[1;33m.\u001b[0m\u001b[0mastype\u001b[0m\u001b[1;33m(\u001b[0m\u001b[0mobject\u001b[0m\u001b[1;33m)\u001b[0m\u001b[1;33m.\u001b[0m\u001b[0mvalues\u001b[0m\u001b[1;33m\u001b[0m\u001b[1;33m\u001b[0m\u001b[0m\n\u001b[1;32m-> 3194\u001b[1;33m                 \u001b[0mmapped\u001b[0m \u001b[1;33m=\u001b[0m \u001b[0mlib\u001b[0m\u001b[1;33m.\u001b[0m\u001b[0mmap_infer\u001b[0m\u001b[1;33m(\u001b[0m\u001b[0mvalues\u001b[0m\u001b[1;33m,\u001b[0m \u001b[0mf\u001b[0m\u001b[1;33m,\u001b[0m \u001b[0mconvert\u001b[0m\u001b[1;33m=\u001b[0m\u001b[0mconvert_dtype\u001b[0m\u001b[1;33m)\u001b[0m\u001b[1;33m\u001b[0m\u001b[1;33m\u001b[0m\u001b[0m\n\u001b[0m\u001b[0;32m   3195\u001b[0m \u001b[1;33m\u001b[0m\u001b[0m\n\u001b[0;32m   3196\u001b[0m         \u001b[1;32mif\u001b[0m \u001b[0mlen\u001b[0m\u001b[1;33m(\u001b[0m\u001b[0mmapped\u001b[0m\u001b[1;33m)\u001b[0m \u001b[1;32mand\u001b[0m \u001b[0misinstance\u001b[0m\u001b[1;33m(\u001b[0m\u001b[0mmapped\u001b[0m\u001b[1;33m[\u001b[0m\u001b[1;36m0\u001b[0m\u001b[1;33m]\u001b[0m\u001b[1;33m,\u001b[0m \u001b[0mSeries\u001b[0m\u001b[1;33m)\u001b[0m\u001b[1;33m:\u001b[0m\u001b[1;33m\u001b[0m\u001b[1;33m\u001b[0m\u001b[0m\n",
      "\u001b[1;32mpandas/_libs/src\\inference.pyx\u001b[0m in \u001b[0;36mpandas._libs.lib.map_infer\u001b[1;34m()\u001b[0m\n",
      "\u001b[1;32m~\\Documents\\GitHub\\San_Francisco_Fire_Dataset_Analysis\\PreprocessingStep.py\u001b[0m in \u001b[0;36m<lambda>\u001b[1;34m(x)\u001b[0m\n\u001b[0;32m    661\u001b[0m  ,'Other Personnel', 'Action Taken Other', 'Action Taken Secondary', 'First Unit On Scene', 'Call Number','Station Area' ], axis=1)\n\u001b[0;32m    662\u001b[0m     \u001b[0mdf_X1\u001b[0m\u001b[1;33m[\u001b[0m\u001b[1;34m'Weekday'\u001b[0m\u001b[1;33m]\u001b[0m \u001b[1;33m=\u001b[0m \u001b[0mdf_X1\u001b[0m\u001b[1;33m[\u001b[0m\u001b[1;34m'Alarm DtTm'\u001b[0m\u001b[1;33m]\u001b[0m\u001b[1;33m.\u001b[0m\u001b[0mapply\u001b[0m\u001b[1;33m(\u001b[0m\u001b[1;32mlambda\u001b[0m \u001b[0mx\u001b[0m\u001b[1;33m:\u001b[0m \u001b[0mconvert_date_to_weekday\u001b[0m\u001b[1;33m(\u001b[0m\u001b[0mx\u001b[0m\u001b[1;33m)\u001b[0m\u001b[1;33m)\u001b[0m\u001b[1;33m\u001b[0m\u001b[1;33m\u001b[0m\u001b[0m\n\u001b[1;32m--> 663\u001b[1;33m     \u001b[0mdf_X1\u001b[0m\u001b[1;33m[\u001b[0m\u001b[1;34m'Hour'\u001b[0m\u001b[1;33m]\u001b[0m \u001b[1;33m=\u001b[0m \u001b[0mdf_X1\u001b[0m\u001b[1;33m[\u001b[0m\u001b[1;34m'Alarm DtTm'\u001b[0m\u001b[1;33m]\u001b[0m\u001b[1;33m.\u001b[0m\u001b[0mapply\u001b[0m\u001b[1;33m(\u001b[0m\u001b[1;32mlambda\u001b[0m \u001b[0mx\u001b[0m\u001b[1;33m:\u001b[0m \u001b[0mconvert_date_to_hour\u001b[0m\u001b[1;33m(\u001b[0m\u001b[0mx\u001b[0m\u001b[1;33m)\u001b[0m\u001b[1;33m)\u001b[0m\u001b[1;33m\u001b[0m\u001b[1;33m\u001b[0m\u001b[0m\n\u001b[0m\u001b[0;32m    664\u001b[0m     \u001b[0mdf_X1\u001b[0m\u001b[1;33m[\u001b[0m\u001b[1;34m'Month'\u001b[0m\u001b[1;33m]\u001b[0m \u001b[1;33m=\u001b[0m \u001b[0mdf_X1\u001b[0m\u001b[1;33m[\u001b[0m\u001b[1;34m'Alarm DtTm'\u001b[0m\u001b[1;33m]\u001b[0m\u001b[1;33m.\u001b[0m\u001b[0mapply\u001b[0m\u001b[1;33m(\u001b[0m\u001b[1;32mlambda\u001b[0m \u001b[0mx\u001b[0m\u001b[1;33m:\u001b[0m \u001b[0mconvert_date_to_month\u001b[0m\u001b[1;33m(\u001b[0m\u001b[0mx\u001b[0m\u001b[1;33m)\u001b[0m\u001b[1;33m)\u001b[0m\u001b[1;33m\u001b[0m\u001b[1;33m\u001b[0m\u001b[0m\n\u001b[0;32m    665\u001b[0m     \u001b[0mdf_X2\u001b[0m \u001b[1;33m=\u001b[0m \u001b[0mdf_X1\u001b[0m\u001b[1;33m.\u001b[0m\u001b[0mdrop\u001b[0m\u001b[1;33m(\u001b[0m\u001b[1;33m[\u001b[0m\u001b[1;34m'Exposure Number'\u001b[0m\u001b[1;33m,\u001b[0m\u001b[1;34m'Location'\u001b[0m\u001b[1;33m,\u001b[0m \u001b[1;34m'Ignition Factor Secondary'\u001b[0m\u001b[1;33m,\u001b[0m \u001b[1;34m'Heat Source'\u001b[0m\u001b[1;33m,\u001b[0m\u001b[1;34m'Floor of Fire Origin'\u001b[0m\u001b[1;33m,\u001b[0m\u001b[1;34m'Box'\u001b[0m \u001b[1;33m,\u001b[0m\u001b[1;34m'Structure Status'\u001b[0m\u001b[1;33m,\u001b[0m\u001b[1;34m'Alarm DtTm'\u001b[0m\u001b[1;33m,\u001b[0m \u001b[1;34m'Area of Fire Origin'\u001b[0m\u001b[1;33m,\u001b[0m \u001b[1;34m'Incident Date'\u001b[0m\u001b[1;33m,\u001b[0m \u001b[1;34m'Incident Number'\u001b[0m\u001b[1;33m,\u001b[0m \u001b[1;34m'Action Taken Primary'\u001b[0m\u001b[1;33m,\u001b[0m\u001b[1;34m'Ignition Factor Primary'\u001b[0m\u001b[1;33m,\u001b[0m \u001b[1;34m'Structure Type'\u001b[0m\u001b[1;33m,\u001b[0m \u001b[1;34m'Automatic Extinguishing System Present'\u001b[0m\u001b[1;33m,\u001b[0m\u001b[1;34m'Detectors Present'\u001b[0m\u001b[1;33m,\u001b[0m\u001b[1;34m'Property Use'\u001b[0m\u001b[1;33m,\u001b[0m\u001b[1;34m'Estimated Property Loss'\u001b[0m\u001b[1;33m,\u001b[0m\u001b[1;34m'Estimated Contents Loss'\u001b[0m\u001b[1;33m,\u001b[0m \u001b[1;34m'Detector Alerted Occupants'\u001b[0m\u001b[1;33m,\u001b[0m \u001b[1;34m'Address'\u001b[0m\u001b[1;33m]\u001b[0m\u001b[1;33m,\u001b[0m \u001b[0maxis\u001b[0m\u001b[1;33m=\u001b[0m\u001b[1;36m1\u001b[0m\u001b[1;33m)\u001b[0m\u001b[1;33m\u001b[0m\u001b[1;33m\u001b[0m\u001b[0m\n",
      "\u001b[1;32m~\\Documents\\GitHub\\San_Francisco_Fire_Dataset_Analysis\\PreprocessingStep.py\u001b[0m in \u001b[0;36mconvert_date_to_hour\u001b[1;34m(tmstp)\u001b[0m\n\u001b[0;32m    315\u001b[0m \u001b[1;33m\u001b[0m\u001b[0m\n\u001b[0;32m    316\u001b[0m \u001b[1;32mdef\u001b[0m \u001b[0mconvert_date_to_hour\u001b[0m\u001b[1;33m(\u001b[0m\u001b[0mtmstp\u001b[0m\u001b[1;33m)\u001b[0m\u001b[1;33m:\u001b[0m\u001b[1;33m\u001b[0m\u001b[1;33m\u001b[0m\u001b[0m\n\u001b[1;32m--> 317\u001b[1;33m     \u001b[0mresult\u001b[0m \u001b[1;33m=\u001b[0m \u001b[0mdatetime\u001b[0m\u001b[1;33m.\u001b[0m\u001b[0mstrptime\u001b[0m\u001b[1;33m(\u001b[0m\u001b[0mtmstp\u001b[0m\u001b[1;33m,\u001b[0m \u001b[1;34m'%m/%d/%Y %I:%M:%S %p'\u001b[0m\u001b[1;33m)\u001b[0m\u001b[1;33m.\u001b[0m\u001b[0mhour\u001b[0m\u001b[1;33m\u001b[0m\u001b[1;33m\u001b[0m\u001b[0m\n\u001b[0m\u001b[0;32m    318\u001b[0m     \u001b[1;32mreturn\u001b[0m \u001b[0mresult\u001b[0m\u001b[1;33m\u001b[0m\u001b[1;33m\u001b[0m\u001b[0m\n\u001b[0;32m    319\u001b[0m \u001b[1;33m\u001b[0m\u001b[0m\n",
      "\u001b[1;32m~\\Anaconda3\\lib\\_strptime.py\u001b[0m in \u001b[0;36m_strptime_datetime\u001b[1;34m(cls, data_string, format)\u001b[0m\n\u001b[0;32m    575\u001b[0m     \"\"\"Return a class cls instance based on the input string and the\n\u001b[0;32m    576\u001b[0m     format string.\"\"\"\n\u001b[1;32m--> 577\u001b[1;33m     \u001b[0mtt\u001b[0m\u001b[1;33m,\u001b[0m \u001b[0mfraction\u001b[0m\u001b[1;33m,\u001b[0m \u001b[0mgmtoff_fraction\u001b[0m \u001b[1;33m=\u001b[0m \u001b[0m_strptime\u001b[0m\u001b[1;33m(\u001b[0m\u001b[0mdata_string\u001b[0m\u001b[1;33m,\u001b[0m \u001b[0mformat\u001b[0m\u001b[1;33m)\u001b[0m\u001b[1;33m\u001b[0m\u001b[1;33m\u001b[0m\u001b[0m\n\u001b[0m\u001b[0;32m    578\u001b[0m     \u001b[0mtzname\u001b[0m\u001b[1;33m,\u001b[0m \u001b[0mgmtoff\u001b[0m \u001b[1;33m=\u001b[0m \u001b[0mtt\u001b[0m\u001b[1;33m[\u001b[0m\u001b[1;33m-\u001b[0m\u001b[1;36m2\u001b[0m\u001b[1;33m:\u001b[0m\u001b[1;33m]\u001b[0m\u001b[1;33m\u001b[0m\u001b[1;33m\u001b[0m\u001b[0m\n\u001b[0;32m    579\u001b[0m     \u001b[0margs\u001b[0m \u001b[1;33m=\u001b[0m \u001b[0mtt\u001b[0m\u001b[1;33m[\u001b[0m\u001b[1;33m:\u001b[0m\u001b[1;36m6\u001b[0m\u001b[1;33m]\u001b[0m \u001b[1;33m+\u001b[0m \u001b[1;33m(\u001b[0m\u001b[0mfraction\u001b[0m\u001b[1;33m,\u001b[0m\u001b[1;33m)\u001b[0m\u001b[1;33m\u001b[0m\u001b[1;33m\u001b[0m\u001b[0m\n",
      "\u001b[1;32m~\\Anaconda3\\lib\\_strptime.py\u001b[0m in \u001b[0;36m_strptime\u001b[1;34m(data_string, format)\u001b[0m\n\u001b[0;32m    376\u001b[0m     \u001b[0mweekday\u001b[0m \u001b[1;33m=\u001b[0m \u001b[0mjulian\u001b[0m \u001b[1;33m=\u001b[0m \u001b[1;32mNone\u001b[0m\u001b[1;33m\u001b[0m\u001b[1;33m\u001b[0m\u001b[0m\n\u001b[0;32m    377\u001b[0m     \u001b[0mfound_dict\u001b[0m \u001b[1;33m=\u001b[0m \u001b[0mfound\u001b[0m\u001b[1;33m.\u001b[0m\u001b[0mgroupdict\u001b[0m\u001b[1;33m(\u001b[0m\u001b[1;33m)\u001b[0m\u001b[1;33m\u001b[0m\u001b[1;33m\u001b[0m\u001b[0m\n\u001b[1;32m--> 378\u001b[1;33m     \u001b[1;32mfor\u001b[0m \u001b[0mgroup_key\u001b[0m \u001b[1;32min\u001b[0m \u001b[0mfound_dict\u001b[0m\u001b[1;33m.\u001b[0m\u001b[0mkeys\u001b[0m\u001b[1;33m(\u001b[0m\u001b[1;33m)\u001b[0m\u001b[1;33m:\u001b[0m\u001b[1;33m\u001b[0m\u001b[1;33m\u001b[0m\u001b[0m\n\u001b[0m\u001b[0;32m    379\u001b[0m         \u001b[1;31m# Directives not explicitly handled below:\u001b[0m\u001b[1;33m\u001b[0m\u001b[1;33m\u001b[0m\u001b[1;33m\u001b[0m\u001b[0m\n\u001b[0;32m    380\u001b[0m         \u001b[1;31m#   c, x, X\u001b[0m\u001b[1;33m\u001b[0m\u001b[1;33m\u001b[0m\u001b[1;33m\u001b[0m\u001b[0m\n",
      "\u001b[1;31mKeyboardInterrupt\u001b[0m: "
     ]
    }
   ],
   "source": [
    "import pandas as pd\n",
    "from PreprocessingStep import preprocessInput\n",
    "from PreprocessingStep import imputeColumnValues\n"
   ]
  },
  {
   "cell_type": "code",
   "execution_count": 3,
   "metadata": {},
   "outputs": [
    {
     "name": "stderr",
     "output_type": "stream",
     "text": [
      "C:\\Users\\Anjali\\Anaconda3\\lib\\site-packages\\IPython\\core\\interactiveshell.py:3020: DtypeWarning: Columns (11,12,19,37,44,58) have mixed types. Specify dtype option on import or set low_memory=False.\n",
      "  interactivity=interactivity, compiler=compiler, result=result)\n"
     ]
    },
    {
     "name": "stdout",
     "output_type": "stream",
     "text": [
      "list of cols.. ['Incident Number', 'Exposure Number', 'Address', 'Incident Date', 'Call Number', 'Alarm DtTm', 'Arrival DtTm', 'Close DtTm', 'City', 'Zipcode', 'Battalion', 'Station Area', 'Box', 'Suppression Units', 'Suppression Personnel', 'EMS Units', 'EMS Personnel', 'Other Units', 'Other Personnel', 'First Unit On Scene', 'Estimated Property Loss', 'Estimated Contents Loss', 'Fire Fatalities', 'Fire Injuries', 'Civilian Fatalities', 'Civilian Injuries', 'Number of Alarms', 'Primary Situation', 'Mutual Aid', 'Action Taken Primary', 'Action Taken Secondary', 'Action Taken Other', 'Detector Alerted Occupants', 'Property Use', 'Area of Fire Origin', 'Ignition Cause', 'Ignition Factor Primary', 'Ignition Factor Secondary', 'Heat Source', 'Item First Ignited', 'Human Factors Associated with Ignition', 'Structure Type', 'Structure Status', 'Floor of Fire Origin', 'Fire Spread', 'No Flame Spead', 'Number of floors with minimum damage', 'Number of floors with significant damage', 'Number of floors with heavy damage', 'Number of floors with extreme damage', 'Detectors Present', 'Detector Type', 'Detector Operation', 'Detector Effectiveness', 'Detector Failure Reason', 'Automatic Extinguishing System Present', 'Automatic Extinguishing Sytem Type', 'Automatic Extinguishing Sytem Perfomance', 'Automatic Extinguishing Sytem Failure Reason', 'Number of Sprinkler Heads Operating', 'Supervisor District', 'Neighborhood  District', 'Location']\n"
     ]
    }
   ],
   "source": [
    "read_df = pd.read_csv('Fire_Incidents.tsv', sep='\\t')\n",
    "columns_list = list(read_df)\n",
    "print(\"list of cols..\",columns_list)\n",
    "\n"
   ]
  },
  {
   "cell_type": "code",
   "execution_count": 4,
   "metadata": {},
   "outputs": [],
   "source": [
    "#train_df = pd.read_csv('Fire_Incidents.tsv', sep='\\t')\n",
    "#train_df = preprocessInput(train_df)\n",
    "train_cols = getTrainColumns()\n",
    "\n",
    "test_df = pd.read_csv('test_file.tsv', sep='\\t')\n",
    "test_df = preprocessInput(test_df)\n",
    "\n",
    "feature_df = imputeColumnValues(train_cols, test_df)\n",
    "model.predict(feature_df)"
   ]
  },
  {
   "cell_type": "code",
   "execution_count": 37,
   "metadata": {},
   "outputs": [],
   "source": [
    "def getTrainColumns():\n",
    "    train_df = pd.read_csv('Fire_Incidents.tsv', sep='\\t')\n",
    "    train_df = preprocessInput(train_df)\n",
    "    return list(train_df)"
   ]
  },
  {
   "cell_type": "code",
   "execution_count": 58,
   "metadata": {},
   "outputs": [],
   "source": [
    "def imputeColumnValues(train_cols, test_df):\n",
    "    listofvals = []\n",
    "    test_cols = list(test_df)\n",
    "    for col in train_cols:\n",
    "        if col in test_cols:\n",
    "            colval = test_df[col]\n",
    "            list1= colval.tolist()\n",
    "            listofvals.append(list1[0])\n",
    "        else :\n",
    "            #list1 = [0]\n",
    "            listofvals.append(0)\n",
    "    listoflists = []\n",
    "    listoflists.append(listofvals)\n",
    "    new_df = pd.DataFrame(listoflists, columns=train_cols)\n",
    "    return new_df\n",
    "        "
   ]
  },
  {
   "cell_type": "code",
   "execution_count": 22,
   "metadata": {},
   "outputs": [],
   "source": [
    "def preprocessInput(read_df):\n",
    "    df_X = read_df.drop(['Number of Alarms', 'Number of floors with minimum damage', 'Number of floors with significant damage', 'Ignition Cause', 'Number of floors with heavy damage', 'Number of floors with extreme damage', 'Detector Failure Reason', 'Number of Sprinkler Heads Operating', 'Item First Ignited', 'Automatic Extinguishing Sytem Type', 'Automatic Extinguishing Sytem Perfomance', 'Automatic Extinguishing Sytem Failure Reason', 'Supervisor District', 'Neighborhood  District'  ], axis = 1)\n",
    "    df_X1 = df_X.drop(['Human Factors Associated with Ignition','Arrival DtTm', 'Close DtTm', 'No Flame Spead', 'Mutual Aid','City','Fire Spread','Detector Type','Detector Operation','Detector Effectiveness', 'Primary Situation', 'Other Units'\n",
    " ,'Other Personnel', 'Action Taken Other', 'Action Taken Secondary', 'First Unit On Scene', 'Call Number','Station Area' ], axis=1)\n",
    "    df_X1['Weekday'] = df_X1['Alarm DtTm'].apply(lambda x: convert_date_to_weekday(x))\n",
    "    df_X1['Hour'] = df_X1['Alarm DtTm'].apply(lambda x: convert_date_to_hour(x))\n",
    "    df_X1['Month'] = df_X1['Alarm DtTm'].apply(lambda x: convert_date_to_month(x))\n",
    "    df_X2 = df_X1.drop(['Exposure Number','Location', 'Ignition Factor Secondary', 'Heat Source','Floor of Fire Origin','Box' ,'Structure Status','Alarm DtTm', 'Area of Fire Origin', 'Incident Date', 'Incident Number', 'Action Taken Primary','Ignition Factor Primary', 'Structure Type', 'Automatic Extinguishing System Present','Detectors Present','Property Use','Estimated Property Loss','Estimated Contents Loss', 'Detector Alerted Occupants', 'Address'], axis=1)\n",
    "    df_X2['Battalion'].unique()\n",
    "    df_X2['Battalion'] = pd.Categorical(df_X2['Battalion'])\n",
    "    one_hot = pd.get_dummies(df_X2['Battalion'],prefix='Battalion')\n",
    "    #df_X2 = df_X2.drop('Battalion',axis = 1)\n",
    "    # Join the encoded df\n",
    "    df_X2 = df_X2.join(one_hot)\n",
    "    df_X2['Zipcode'] = pd.Categorical(df_X2['Zipcode'])\n",
    "    one_hot = pd.get_dummies(df_X2['Zipcode'],prefix='Zipcode')\n",
    "    #df_X2 = df_X2.drop('Battalion',axis = 1)\n",
    "    # Join the encoded df\n",
    "    df_X2 = df_X2.join(one_hot)\n",
    "    df_feature  = df_X2.drop(['Battalion','Zipcode'],axis=1)\n",
    "    return df_feature\n",
    "\n",
    "from datetime import datetime\n",
    "\n",
    "def convert_date_to_weekday(tmstp):\n",
    "    result = datetime.strptime(tmstp, '%m/%d/%Y %I:%M:%S %p').weekday()\n",
    "    return result\n",
    "    \n",
    "def convert_date_to_hour(tmstp):\n",
    "    result = datetime.strptime(tmstp, '%m/%d/%Y %I:%M:%S %p').hour\n",
    "    return result\n",
    "\n",
    "def convert_date_to_month(tmstp):\n",
    "    result = datetime.strptime(tmstp, '%m/%d/%Y %I:%M:%S %p').month\n",
    "    return result"
   ]
  },
  {
   "cell_type": "code",
   "execution_count": 42,
   "metadata": {},
   "outputs": [],
   "source": [
    "test_df = pd.read_csv('test_file.tsv', sep='\\t')\n",
    "test_df = preprocessInput(test_df)\n"
   ]
  },
  {
   "cell_type": "code",
   "execution_count": 44,
   "metadata": {},
   "outputs": [],
   "source": [
    "train_cols = getTrainColumns()\n"
   ]
  },
  {
   "cell_type": "code",
   "execution_count": 59,
   "metadata": {},
   "outputs": [
    {
     "name": "stdout",
     "output_type": "stream",
     "text": [
      "colval... 0    3\n",
      "Name: Suppression Units, dtype: int64\n",
      "list1... [3]\n",
      "colval... 0    10\n",
      "Name: EMS Units, dtype: int64\n",
      "list1... [10]\n",
      "colval... 0    0\n",
      "Name: EMS Personnel, dtype: int64\n",
      "list1... [0]\n",
      "colval... 0    0\n",
      "Name: Fire Fatalities, dtype: int64\n",
      "list1... [0]\n",
      "colval... 0    0\n",
      "Name: Fire Injuries, dtype: int64\n",
      "list1... [0]\n",
      "colval... 0    0\n",
      "Name: Civilian Fatalities, dtype: int64\n",
      "list1... [0]\n",
      "colval... 0    0\n",
      "Name: Civilian Injuries, dtype: int64\n",
      "list1... [0]\n",
      "colval... 0    6\n",
      "Name: Weekday, dtype: int64\n",
      "list1... [6]\n",
      "colval... 0    17\n",
      "Name: Hour, dtype: int64\n",
      "list1... [17]\n",
      "colval... 0    10\n",
      "Name: Month, dtype: int64\n",
      "list1... [10]\n",
      "colval... 0    1\n",
      "Name: Battalion_B10, dtype: uint8\n",
      "list1... [1]\n",
      "end of for loop..\n",
      "[3, 0, 10, 0, 0, 0, 0, 0, 6, 17, 10, 0, 0, 0, 0, 0, 0, 0, 0, 0, 1, 0, 0, 0, 0, 0, 0, 0, 0, 0, 0, 0, 0, 0, 0, 0, 0, 0, 0, 0, 0, 0, 0, 0, 0, 0, 0, 0, 0]\n"
     ]
    }
   ],
   "source": [
    "new_test_df = imputeColumnValues(train_cols, test_df)"
   ]
  }
 ],
 "metadata": {
  "kernelspec": {
   "display_name": "Python 3",
   "language": "python",
   "name": "python3"
  },
  "language_info": {
   "codemirror_mode": {
    "name": "ipython",
    "version": 3
   },
   "file_extension": ".py",
   "mimetype": "text/x-python",
   "name": "python",
   "nbconvert_exporter": "python",
   "pygments_lexer": "ipython3",
   "version": "3.7.1"
  }
 },
 "nbformat": 4,
 "nbformat_minor": 2
}
