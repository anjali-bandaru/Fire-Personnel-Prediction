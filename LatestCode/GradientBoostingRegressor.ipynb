{
 "cells": [
  {
   "cell_type": "code",
   "execution_count": 1,
   "metadata": {},
   "outputs": [],
   "source": [
    "import pandas as pd\n",
    "import numpy as np\n",
    "from SFFirePredLibraries import preprocessInput\n"
   ]
  },
  {
   "cell_type": "markdown",
   "metadata": {},
   "source": [
    "Reading training file"
   ]
  },
  {
   "cell_type": "code",
   "execution_count": 2,
   "metadata": {},
   "outputs": [
    {
     "name": "stderr",
     "output_type": "stream",
     "text": [
      "/opt/ohpc/pub/apps/python3/3.7.0/lib/python3.7/site-packages/IPython/core/interactiveshell.py:2785: DtypeWarning: Columns (11,12,19,37,44,58) have mixed types. Specify dtype option on import or set low_memory=False.\n",
      "  interactivity=interactivity, compiler=compiler, result=result)\n"
     ]
    },
    {
     "data": {
      "text/html": [
       "<div>\n",
       "<style scoped>\n",
       "    .dataframe tbody tr th:only-of-type {\n",
       "        vertical-align: middle;\n",
       "    }\n",
       "\n",
       "    .dataframe tbody tr th {\n",
       "        vertical-align: top;\n",
       "    }\n",
       "\n",
       "    .dataframe thead th {\n",
       "        text-align: right;\n",
       "    }\n",
       "</style>\n",
       "<table border=\"1\" class=\"dataframe\">\n",
       "  <thead>\n",
       "    <tr style=\"text-align: right;\">\n",
       "      <th></th>\n",
       "      <th>Incident Number</th>\n",
       "      <th>Exposure Number</th>\n",
       "      <th>Call Number</th>\n",
       "      <th>Zipcode</th>\n",
       "      <th>Suppression Units</th>\n",
       "      <th>Suppression Personnel</th>\n",
       "      <th>EMS Units</th>\n",
       "      <th>EMS Personnel</th>\n",
       "      <th>Other Units</th>\n",
       "      <th>Other Personnel</th>\n",
       "      <th>...</th>\n",
       "      <th>Civilian Fatalities</th>\n",
       "      <th>Civilian Injuries</th>\n",
       "      <th>Number of Alarms</th>\n",
       "      <th>Floor of Fire Origin</th>\n",
       "      <th>Number of floors with minimum damage</th>\n",
       "      <th>Number of floors with significant damage</th>\n",
       "      <th>Number of floors with heavy damage</th>\n",
       "      <th>Number of floors with extreme damage</th>\n",
       "      <th>Number of Sprinkler Heads Operating</th>\n",
       "      <th>Supervisor District</th>\n",
       "    </tr>\n",
       "  </thead>\n",
       "  <tbody>\n",
       "    <tr>\n",
       "      <th>count</th>\n",
       "      <td>4.930610e+05</td>\n",
       "      <td>493061.000000</td>\n",
       "      <td>4.930610e+05</td>\n",
       "      <td>420240.000000</td>\n",
       "      <td>493061.000000</td>\n",
       "      <td>493061.000000</td>\n",
       "      <td>493061.000000</td>\n",
       "      <td>493061.000000</td>\n",
       "      <td>493061.000000</td>\n",
       "      <td>493061.000000</td>\n",
       "      <td>...</td>\n",
       "      <td>493061.000000</td>\n",
       "      <td>493061.000000</td>\n",
       "      <td>0.0</td>\n",
       "      <td>8151.000000</td>\n",
       "      <td>6610.000000</td>\n",
       "      <td>6599.000000</td>\n",
       "      <td>6593.000000</td>\n",
       "      <td>6596.000000</td>\n",
       "      <td>6742.000000</td>\n",
       "      <td>420220.000000</td>\n",
       "    </tr>\n",
       "    <tr>\n",
       "      <th>mean</th>\n",
       "      <td>1.079609e+07</td>\n",
       "      <td>0.000045</td>\n",
       "      <td>1.091767e+08</td>\n",
       "      <td>94113.485354</td>\n",
       "      <td>2.536072</td>\n",
       "      <td>9.124415</td>\n",
       "      <td>0.176471</td>\n",
       "      <td>0.326905</td>\n",
       "      <td>0.034582</td>\n",
       "      <td>0.063317</td>\n",
       "      <td>...</td>\n",
       "      <td>0.000061</td>\n",
       "      <td>0.001158</td>\n",
       "      <td>NaN</td>\n",
       "      <td>2.275426</td>\n",
       "      <td>0.723298</td>\n",
       "      <td>0.155781</td>\n",
       "      <td>0.082967</td>\n",
       "      <td>0.039418</td>\n",
       "      <td>0.081282</td>\n",
       "      <td>5.786017</td>\n",
       "    </tr>\n",
       "    <tr>\n",
       "      <th>std</th>\n",
       "      <td>4.726111e+06</td>\n",
       "      <td>0.009229</td>\n",
       "      <td>4.716861e+07</td>\n",
       "      <td>10.174619</td>\n",
       "      <td>8.896839</td>\n",
       "      <td>22.983902</td>\n",
       "      <td>0.783586</td>\n",
       "      <td>1.196615</td>\n",
       "      <td>1.449118</td>\n",
       "      <td>1.518516</td>\n",
       "      <td>...</td>\n",
       "      <td>0.009229</td>\n",
       "      <td>0.065608</td>\n",
       "      <td>NaN</td>\n",
       "      <td>5.760013</td>\n",
       "      <td>0.510876</td>\n",
       "      <td>0.438704</td>\n",
       "      <td>0.339013</td>\n",
       "      <td>0.266318</td>\n",
       "      <td>0.431558</td>\n",
       "      <td>2.729472</td>\n",
       "    </tr>\n",
       "    <tr>\n",
       "      <th>min</th>\n",
       "      <td>3.000001e+06</td>\n",
       "      <td>0.000000</td>\n",
       "      <td>3.001000e+07</td>\n",
       "      <td>94102.000000</td>\n",
       "      <td>0.000000</td>\n",
       "      <td>0.000000</td>\n",
       "      <td>0.000000</td>\n",
       "      <td>0.000000</td>\n",
       "      <td>0.000000</td>\n",
       "      <td>0.000000</td>\n",
       "      <td>...</td>\n",
       "      <td>0.000000</td>\n",
       "      <td>0.000000</td>\n",
       "      <td>NaN</td>\n",
       "      <td>-3.000000</td>\n",
       "      <td>0.000000</td>\n",
       "      <td>0.000000</td>\n",
       "      <td>0.000000</td>\n",
       "      <td>0.000000</td>\n",
       "      <td>0.000000</td>\n",
       "      <td>1.000000</td>\n",
       "    </tr>\n",
       "    <tr>\n",
       "      <th>25%</th>\n",
       "      <td>7.024104e+06</td>\n",
       "      <td>0.000000</td>\n",
       "      <td>7.082034e+07</td>\n",
       "      <td>94105.000000</td>\n",
       "      <td>1.000000</td>\n",
       "      <td>4.000000</td>\n",
       "      <td>0.000000</td>\n",
       "      <td>0.000000</td>\n",
       "      <td>0.000000</td>\n",
       "      <td>0.000000</td>\n",
       "      <td>...</td>\n",
       "      <td>0.000000</td>\n",
       "      <td>0.000000</td>\n",
       "      <td>NaN</td>\n",
       "      <td>1.000000</td>\n",
       "      <td>0.000000</td>\n",
       "      <td>0.000000</td>\n",
       "      <td>0.000000</td>\n",
       "      <td>0.000000</td>\n",
       "      <td>0.000000</td>\n",
       "      <td>3.000000</td>\n",
       "    </tr>\n",
       "    <tr>\n",
       "      <th>50%</th>\n",
       "      <td>1.103297e+07</td>\n",
       "      <td>0.000000</td>\n",
       "      <td>1.109903e+08</td>\n",
       "      <td>94110.000000</td>\n",
       "      <td>2.000000</td>\n",
       "      <td>9.000000</td>\n",
       "      <td>0.000000</td>\n",
       "      <td>0.000000</td>\n",
       "      <td>0.000000</td>\n",
       "      <td>0.000000</td>\n",
       "      <td>...</td>\n",
       "      <td>0.000000</td>\n",
       "      <td>0.000000</td>\n",
       "      <td>NaN</td>\n",
       "      <td>2.000000</td>\n",
       "      <td>1.000000</td>\n",
       "      <td>0.000000</td>\n",
       "      <td>0.000000</td>\n",
       "      <td>0.000000</td>\n",
       "      <td>0.000000</td>\n",
       "      <td>6.000000</td>\n",
       "    </tr>\n",
       "    <tr>\n",
       "      <th>75%</th>\n",
       "      <td>1.505559e+07</td>\n",
       "      <td>0.000000</td>\n",
       "      <td>1.514621e+08</td>\n",
       "      <td>94121.000000</td>\n",
       "      <td>3.000000</td>\n",
       "      <td>10.000000</td>\n",
       "      <td>0.000000</td>\n",
       "      <td>0.000000</td>\n",
       "      <td>0.000000</td>\n",
       "      <td>0.000000</td>\n",
       "      <td>...</td>\n",
       "      <td>0.000000</td>\n",
       "      <td>0.000000</td>\n",
       "      <td>NaN</td>\n",
       "      <td>2.000000</td>\n",
       "      <td>1.000000</td>\n",
       "      <td>0.000000</td>\n",
       "      <td>0.000000</td>\n",
       "      <td>0.000000</td>\n",
       "      <td>0.000000</td>\n",
       "      <td>8.000000</td>\n",
       "    </tr>\n",
       "    <tr>\n",
       "      <th>max</th>\n",
       "      <td>1.904402e+07</td>\n",
       "      <td>5.000000</td>\n",
       "      <td>1.910338e+08</td>\n",
       "      <td>94158.000000</td>\n",
       "      <td>3333.000000</td>\n",
       "      <td>5960.000000</td>\n",
       "      <td>150.000000</td>\n",
       "      <td>312.000000</td>\n",
       "      <td>1000.000000</td>\n",
       "      <td>1000.000000</td>\n",
       "      <td>...</td>\n",
       "      <td>3.000000</td>\n",
       "      <td>24.000000</td>\n",
       "      <td>NaN</td>\n",
       "      <td>105.000000</td>\n",
       "      <td>5.000000</td>\n",
       "      <td>7.000000</td>\n",
       "      <td>5.000000</td>\n",
       "      <td>6.000000</td>\n",
       "      <td>20.000000</td>\n",
       "      <td>11.000000</td>\n",
       "    </tr>\n",
       "  </tbody>\n",
       "</table>\n",
       "<p>8 rows × 24 columns</p>\n",
       "</div>"
      ],
      "text/plain": [
       "       Incident Number  Exposure Number   Call Number        Zipcode  \\\n",
       "count     4.930610e+05    493061.000000  4.930610e+05  420240.000000   \n",
       "mean      1.079609e+07         0.000045  1.091767e+08   94113.485354   \n",
       "std       4.726111e+06         0.009229  4.716861e+07      10.174619   \n",
       "min       3.000001e+06         0.000000  3.001000e+07   94102.000000   \n",
       "25%       7.024104e+06         0.000000  7.082034e+07   94105.000000   \n",
       "50%       1.103297e+07         0.000000  1.109903e+08   94110.000000   \n",
       "75%       1.505559e+07         0.000000  1.514621e+08   94121.000000   \n",
       "max       1.904402e+07         5.000000  1.910338e+08   94158.000000   \n",
       "\n",
       "       Suppression Units  Suppression Personnel      EMS Units  EMS Personnel  \\\n",
       "count      493061.000000          493061.000000  493061.000000  493061.000000   \n",
       "mean            2.536072               9.124415       0.176471       0.326905   \n",
       "std             8.896839              22.983902       0.783586       1.196615   \n",
       "min             0.000000               0.000000       0.000000       0.000000   \n",
       "25%             1.000000               4.000000       0.000000       0.000000   \n",
       "50%             2.000000               9.000000       0.000000       0.000000   \n",
       "75%             3.000000              10.000000       0.000000       0.000000   \n",
       "max          3333.000000            5960.000000     150.000000     312.000000   \n",
       "\n",
       "         Other Units  Other Personnel         ...           \\\n",
       "count  493061.000000    493061.000000         ...            \n",
       "mean        0.034582         0.063317         ...            \n",
       "std         1.449118         1.518516         ...            \n",
       "min         0.000000         0.000000         ...            \n",
       "25%         0.000000         0.000000         ...            \n",
       "50%         0.000000         0.000000         ...            \n",
       "75%         0.000000         0.000000         ...            \n",
       "max      1000.000000      1000.000000         ...            \n",
       "\n",
       "       Civilian Fatalities  Civilian Injuries  Number of Alarms  \\\n",
       "count        493061.000000      493061.000000               0.0   \n",
       "mean              0.000061           0.001158               NaN   \n",
       "std               0.009229           0.065608               NaN   \n",
       "min               0.000000           0.000000               NaN   \n",
       "25%               0.000000           0.000000               NaN   \n",
       "50%               0.000000           0.000000               NaN   \n",
       "75%               0.000000           0.000000               NaN   \n",
       "max               3.000000          24.000000               NaN   \n",
       "\n",
       "       Floor of Fire Origin  Number of floors with minimum damage  \\\n",
       "count           8151.000000                           6610.000000   \n",
       "mean               2.275426                              0.723298   \n",
       "std                5.760013                              0.510876   \n",
       "min               -3.000000                              0.000000   \n",
       "25%                1.000000                              0.000000   \n",
       "50%                2.000000                              1.000000   \n",
       "75%                2.000000                              1.000000   \n",
       "max              105.000000                              5.000000   \n",
       "\n",
       "       Number of floors with significant damage  \\\n",
       "count                               6599.000000   \n",
       "mean                                   0.155781   \n",
       "std                                    0.438704   \n",
       "min                                    0.000000   \n",
       "25%                                    0.000000   \n",
       "50%                                    0.000000   \n",
       "75%                                    0.000000   \n",
       "max                                    7.000000   \n",
       "\n",
       "       Number of floors with heavy damage  \\\n",
       "count                         6593.000000   \n",
       "mean                             0.082967   \n",
       "std                              0.339013   \n",
       "min                              0.000000   \n",
       "25%                              0.000000   \n",
       "50%                              0.000000   \n",
       "75%                              0.000000   \n",
       "max                              5.000000   \n",
       "\n",
       "       Number of floors with extreme damage  \\\n",
       "count                           6596.000000   \n",
       "mean                               0.039418   \n",
       "std                                0.266318   \n",
       "min                                0.000000   \n",
       "25%                                0.000000   \n",
       "50%                                0.000000   \n",
       "75%                                0.000000   \n",
       "max                                6.000000   \n",
       "\n",
       "       Number of Sprinkler Heads Operating  Supervisor District  \n",
       "count                          6742.000000        420220.000000  \n",
       "mean                              0.081282             5.786017  \n",
       "std                               0.431558             2.729472  \n",
       "min                               0.000000             1.000000  \n",
       "25%                               0.000000             3.000000  \n",
       "50%                               0.000000             6.000000  \n",
       "75%                               0.000000             8.000000  \n",
       "max                              20.000000            11.000000  \n",
       "\n",
       "[8 rows x 24 columns]"
      ]
     },
     "execution_count": 2,
     "metadata": {},
     "output_type": "execute_result"
    }
   ],
   "source": [
    "df = pd.read_csv('Fire_Incidents.tsv', sep='\\t')\n",
    "df.describe()\n"
   ]
  },
  {
   "cell_type": "markdown",
   "metadata": {},
   "source": [
    "Preprocessing train data frame"
   ]
  },
  {
   "cell_type": "code",
   "execution_count": 3,
   "metadata": {},
   "outputs": [
    {
     "name": "stderr",
     "output_type": "stream",
     "text": [
      "/opt/ohpc/pub/apps/python3/3.7.0/lib/python3.7/site-packages/IPython/core/interactiveshell.py:2901: DtypeWarning: Columns (11,12,19,37,44,58) have mixed types. Specify dtype option on import or set low_memory=False.\n",
      "  if self.run_code(code, result):\n"
     ]
    },
    {
     "data": {
      "text/plain": [
       "(492927,)"
      ]
     },
     "execution_count": 3,
     "metadata": {},
     "output_type": "execute_result"
    }
   ],
   "source": [
    "df_feature = preprocessInput(df)\n",
    "filter_df = df_feature[df_feature['Suppression Personnel'] <= 100]\n",
    "filter_df.shape\n",
    "filter_df['Suppression Personnel'].value_counts()\n",
    "df_Y = filter_df['Suppression Personnel']\n",
    "filter_df = filter_df.drop(['Suppression Personnel'],axis=1)\n",
    "df_Y.shape\n"
   ]
  },
  {
   "cell_type": "markdown",
   "metadata": {},
   "source": [
    "Creating CSR matrix"
   ]
  },
  {
   "cell_type": "code",
   "execution_count": 4,
   "metadata": {},
   "outputs": [],
   "source": [
    "from scipy.sparse import csr_matrix\n"
   ]
  },
  {
   "cell_type": "code",
   "execution_count": 5,
   "metadata": {},
   "outputs": [],
   "source": [
    "def dataframetoCSRmatrix(df):\n",
    "    nrows = len(df)\n",
    "    nc = len(df.columns)\n",
    "    idx = {}\n",
    "    tid = 0\n",
    "    nnz = nc * nrows\n",
    "    \n",
    "    cols= df.columns\n",
    "    \n",
    "    for col in cols:\n",
    "        df[col] = df[col].apply(str)\n",
    "        for name in df[col].unique():\n",
    "            idx[col+name] = tid\n",
    "            tid += 1\n",
    "    \n",
    "    ncols = len(idx)\n",
    "    \n",
    "    ind = np.zeros(nnz, dtype=np.int)\n",
    "    val = np.zeros(nnz, dtype=np.int)\n",
    "    ptr = np.zeros(nrows+1, dtype=np.int)\n",
    "    \n",
    "    i=0\n",
    "    n=0\n",
    "    \n",
    "    for index,row in df.iterrows():\n",
    "        for j,col in enumerate(cols):\n",
    "            ind[j+n] = idx[col+row[col]]\n",
    "            val[j+n] = 1\n",
    "        ptr[i+1] = ptr[i] + nc\n",
    "        n += nc\n",
    "        i += 1\n",
    "    \n",
    "    mat = csr_matrix((val,ind,ptr), shape=(nrows,ncols), dtype=np.int)\n",
    "    mat.sort_indices()   \n",
    "    \n",
    "    return mat"
   ]
  },
  {
   "cell_type": "code",
   "execution_count": 6,
   "metadata": {},
   "outputs": [],
   "source": [
    "mat1 = dataframetoCSRmatrix(filter_df)\n"
   ]
  },
  {
   "cell_type": "markdown",
   "metadata": {},
   "source": [
    "Apply Gradient Boosting Algorithm"
   ]
  },
  {
   "cell_type": "code",
   "execution_count": 7,
   "metadata": {},
   "outputs": [
    {
     "name": "stderr",
     "output_type": "stream",
     "text": [
      "/opt/ohpc/pub/apps/python3/3.7.0/lib/python3.7/site-packages/sklearn/ensemble/weight_boosting.py:29: DeprecationWarning: numpy.core.umath_tests is an internal NumPy module and should not be imported. It will be removed in a future NumPy release.\n",
      "  from numpy.core.umath_tests import inner1d\n"
     ]
    }
   ],
   "source": [
    "from sklearn.model_selection import train_test_split\n",
    "from sklearn.ensemble import GradientBoostingRegressor\n",
    "from sklearn.metrics import explained_variance_score\n",
    "from sklearn.metrics import r2_score\n",
    "from sklearn.metrics import mean_absolute_error\n",
    "from sklearn.metrics import mean_squared_error\n",
    "from sklearn.metrics import median_absolute_error\n",
    "from sklearn.metrics import mean_squared_log_error"
   ]
  },
  {
   "cell_type": "code",
   "execution_count": 8,
   "metadata": {},
   "outputs": [],
   "source": [
    "df_feature_train, df_feature_test, df_y_train, df_y_test = train_test_split(mat1, df_Y, test_size = 0.2, random_state = 0)\n",
    "\n",
    "\n",
    "# rfreg = RandomForestRegressor(n_estimators= 10,max_depth=1, random_state=42)\n",
    "# rfreg.fit(df_feature_train, df_y_train)\n",
    "\n",
    "\n",
    "# predicted_y_rf = rfreg.predict(df_feature_test)\n",
    "\n",
    "\n",
    "# set(predicted_y_rf)\n",
    "\n"
   ]
  },
  {
   "cell_type": "code",
   "execution_count": 9,
   "metadata": {},
   "outputs": [],
   "source": [
    "gbr = GradientBoostingRegressor(n_estimators=175, learning_rate=0.08, max_depth=3, random_state=1232, loss='ls')"
   ]
  },
  {
   "cell_type": "code",
   "execution_count": 10,
   "metadata": {},
   "outputs": [
    {
     "data": {
      "text/plain": [
       "GradientBoostingRegressor(alpha=0.9, criterion='friedman_mse', init=None,\n",
       "             learning_rate=0.08, loss='ls', max_depth=3, max_features=None,\n",
       "             max_leaf_nodes=None, min_impurity_decrease=0.0,\n",
       "             min_impurity_split=None, min_samples_leaf=1,\n",
       "             min_samples_split=2, min_weight_fraction_leaf=0.0,\n",
       "             n_estimators=175, presort='auto', random_state=1232,\n",
       "             subsample=1.0, verbose=0, warm_start=False)"
      ]
     },
     "execution_count": 10,
     "metadata": {},
     "output_type": "execute_result"
    }
   ],
   "source": [
    "gbr.fit(df_feature_train, df_y_train)"
   ]
  },
  {
   "cell_type": "code",
   "execution_count": 11,
   "metadata": {},
   "outputs": [],
   "source": [
    "predicted_y_gbr = gbr.predict(df_feature_test)\n"
   ]
  },
  {
   "cell_type": "markdown",
   "metadata": {},
   "source": [
    "Calculating accuracy measures"
   ]
  },
  {
   "cell_type": "code",
   "execution_count": 12,
   "metadata": {},
   "outputs": [
    {
     "name": "stdout",
     "output_type": "stream",
     "text": [
      "r2_score:_ GBR 0.35759292578695034\n",
      "explained_variance_score:GBR  0.3575930902741611\n",
      "mean_absolute_error:GBR  3.0643168481860834\n",
      "mean_squared_error:GBR  28.16380823878289\n",
      "median_absolute_error:GBR  1.7527194752315207\n",
      "mean_squared_log_error:GBR  0.1875355813369565\n"
     ]
    }
   ],
   "source": [
    "print(\"r2_score:_ GBR\",r2_score(df_y_test, predicted_y_gbr))\n",
    "print(\"explained_variance_score:GBR \",explained_variance_score(df_y_test, predicted_y_gbr))\n",
    "print(\"mean_absolute_error:GBR \",mean_absolute_error(df_y_test, predicted_y_gbr))\n",
    "print(\"mean_squared_error:GBR \",mean_squared_error(df_y_test, predicted_y_gbr))\n",
    "print(\"median_absolute_error:GBR \",median_absolute_error(df_y_test, predicted_y_gbr))\n",
    "print(\"mean_squared_log_error:GBR \",mean_squared_log_error(df_y_test, predicted_y_gbr))\n"
   ]
  },
  {
   "cell_type": "code",
   "execution_count": 13,
   "metadata": {},
   "outputs": [
    {
     "data": {
      "text/plain": [
       "['sf_reg_gbr.pkl']"
      ]
     },
     "execution_count": 13,
     "metadata": {},
     "output_type": "execute_result"
    }
   ],
   "source": [
    "from sklearn.externals import joblib \n",
    "\n",
    "joblib.dump(gbr, 'sf_reg_gbr.pkl') "
   ]
  },
  {
   "cell_type": "code",
   "execution_count": null,
   "metadata": {},
   "outputs": [],
   "source": []
  }
 ],
 "metadata": {
  "kernelspec": {
   "display_name": "Python 3",
   "language": "python",
   "name": "python3"
  },
  "language_info": {
   "codemirror_mode": {
    "name": "ipython",
    "version": 3
   },
   "file_extension": ".py",
   "mimetype": "text/x-python",
   "name": "python",
   "nbconvert_exporter": "python",
   "pygments_lexer": "ipython3",
   "version": "3.7.1"
  }
 },
 "nbformat": 4,
 "nbformat_minor": 2
}
