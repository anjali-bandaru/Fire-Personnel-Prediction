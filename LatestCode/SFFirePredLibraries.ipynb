{
 "cells": [
  {
   "cell_type": "code",
   "execution_count": 1,
   "metadata": {},
   "outputs": [],
   "source": [
    "import pandas as pd\n",
    "import numpy as np"
   ]
  },
  {
   "cell_type": "code",
   "execution_count": 2,
   "metadata": {},
   "outputs": [],
   "source": [
    "def preprocessInput(read_df):\n",
    "    df = pd.read_csv('Fire_Incidents.tsv', sep='\\t')\n",
    "    df = df.drop(['Incident Number','Address','Call Number', 'Arrival DtTm', 'Close DtTm', 'Suppression Units', 'EMS Units', 'EMS Personnel', 'Other Units', 'Other Personnel', 'First Unit On Scene', 'Estimated Property Loss', \n",
    "         'Estimated Contents Loss', 'Fire Fatalities', 'Fire Injuries', 'Civilian Fatalities', 'Civilian Injuries', \n",
    "         'Mutual Aid', 'Action Taken Secondary', 'Action Taken Other', 'Area of Fire Origin', \n",
    "         'Ignition Factor Primary', 'Ignition Factor Secondary', 'Heat Source','Item First Ignited',\n",
    "         'Human Factors Associated with Ignition', 'Floor of Fire Origin', 'Fire Spread','No Flame Spead',\n",
    "         'Number of floors with minimum damage','Number of floors with significant damage','Number of floors with heavy damage',\n",
    "         'Number of floors with extreme damage','Detector Type','Detector Operation','Detector Effectiveness',\n",
    "         'Detector Failure Reason','Automatic Extinguishing System Present','Automatic Extinguishing Sytem Type',\n",
    "         'Automatic Extinguishing Sytem Perfomance','Automatic Extinguishing Sytem Failure Reason','Location'], axis=1)\n",
    "    df_X = df.interpolate(method ='nearest')\n",
    "    \n",
    "    \n",
    "    df_X['Property Use'] = df_X['Property Use'].apply(lambda s: Property_Use_Conv(s))\n",
    "    df_X['Property Use'] = df_X['Property Use'].apply(lambda s: 500 if str(s) == 'uuu' or str(s) == 'nnn' or str(s) == 'nan' or str(s) == '-' else s)\n",
    "    df_X['Property Use'] = df_X['Property Use'].apply(lambda s: str(s)[0] if str(s).find('-') != -1 else s)\n",
    "    df_X['Primary Situation'] = df_X['Primary Situation'].apply(lambda s: Property_Use_Conv(s))\n",
    "    df_X['Primary Situation'] = df_X['Primary Situation'].apply(lambda s: 650 if str(s) == 'n/a' or str(s).startswith('cr') or str(s).startswith('y') or str(s) == '-' else s)\n",
    "    df_X['Primary Situation'] = df_X['Primary Situation'].apply(lambda s: str(s)[0] if str(s).find('-') != -1 or str(s).find('*') != -1 else s)  \n",
    "    df_X['Action Taken Primary'] = df_X['Action Taken Primary'].apply(lambda s: Property_Use_Conv(s))\n",
    "    df_X['Action Taken Primary'] = df_X['Action Taken Primary'].apply(lambda s: 86 if str(s) == '-' or str(s).startswith('Nan') or str(s).startswith('nan') else s)\n",
    "    df_X['Detector Alerted Occupants'] = df_X['Detector Alerted Occupants'].apply(lambda s: Property_Use_Conv(s))\n",
    "    df_X['Detector Alerted Occupants'] = df_X['Detector Alerted Occupants'].apply(lambda s: 0 if str(s) == '-' or str(s).startswith('u') or str(s).startswith('nan') else s)\n",
    "    df_X['Station Area'] = df_X['Station Area'].apply(lambda s: 40 if str(s).startswith('A') or str(s).startswith('H') or str(s).startswith('O') or str(s).startswith('nan') or str(s) == '-' else s)\n",
    "    df_X['Detector Alerted Occupants'] = df_X['Detector Alerted Occupants'].apply(lambda s: str(s)[0] if str(s).find('-') != -1 or str(s).find('*') != -1 or str(s).find('d') != -1 else s)  \n",
    "    \n",
    "    for col in df.columns:\n",
    "        delete_columns(df, col)\n",
    "        \n",
    "    df_X['Weekday'] = df_X['Alarm DtTm'].apply(lambda x: convert_date_to_weekday(x))\n",
    "    df_X['Hour'] = df_X['Alarm DtTm'].apply(lambda x: convert_date_to_hour(x))\n",
    "    df_X['Month'] = df_X['Alarm DtTm'].apply(lambda x: convert_date_to_month(x))\n",
    "    \n",
    "    missing_values()\n",
    "\n",
    "    for col in df_X.columns:\n",
    "        df_X[col] = df_X[col].fillna(method='bfill')\n",
    "    df_X['Battalion'] = pd.Categorical(df_X['Battalion'])\n",
    "    one_hot = pd.get_dummies(df_X['Battalion'],prefix='Battalion')\n",
    "        #df_X2 = df_X2.drop('Battalion',axis = 1)\n",
    "        # Join the encoded df\n",
    "    df_X = df_X.join(one_hot)\n",
    "    df_X['Zipcode'] = pd.Categorical(df_X['Zipcode'])\n",
    "    one_hot = pd.get_dummies(df_X['Zipcode'],prefix='Zipcode')\n",
    "        #df_X2 = df_X2.drop('Battalion',axis = 1)\n",
    "        # Join the encoded df\n",
    "    df_X = df_X.join(one_hot)\n",
    "    df_feature  = df_X.drop(['Battalion','Zipcode'],axis=1)\n",
    "    df_feature = df_feature.drop(['Alarm DtTm','City','Incident Date','Neighborhood  District'],axis=1)\n",
    "    "
   ]
  },
  {
   "cell_type": "code",
   "execution_count": 3,
   "metadata": {},
   "outputs": [],
   "source": [
    "# remove columns with more than half null values\n",
    "def delete_columns(df, col):\n",
    "    if df[col].isnull().sum() > df[col].count()/2:\n",
    "        del df[col]\n",
    "        \n"
   ]
  },
  {
   "cell_type": "code",
   "execution_count": 4,
   "metadata": {},
   "outputs": [],
   "source": [
    "def Property_Use_Conv(df):\n",
    "    temp = str(df)\n",
    "    temp = temp.strip()\n",
    "    #temp = re.sub(r'\\d+',temp )\n",
    "    return temp[:3]\n",
    "\n",
    "from datetime import datetime\n",
    "\n",
    "def convert_date_to_weekday(tmstp):\n",
    "    result = datetime.strptime(tmstp, '%m/%d/%Y %I:%M:%S %p').weekday()\n",
    "    return result\n",
    "    \n",
    "def convert_date_to_hour(tmstp):\n",
    "    result = datetime.strptime(tmstp, '%m/%d/%Y %I:%M:%S %p').hour\n",
    "    return result\n",
    "\n",
    "def convert_date_to_month(tmstp):\n",
    "    result = datetime.strptime(tmstp, '%m/%d/%Y %I:%M:%S %p').month\n",
    "    return result\n",
    "\n"
   ]
  },
  {
   "cell_type": "code",
   "execution_count": 5,
   "metadata": {},
   "outputs": [],
   "source": [
    "def missing_values():\n",
    "    temp_dict = dict()\n",
    "    for i in df_X.columns:\n",
    "        if df_X[i].isnull().sum() > 0: \n",
    "            temp_dict[i] = df_X[i].isnull().sum()\n",
    "    return temp_dict"
   ]
  },
  {
   "cell_type": "code",
   "execution_count": null,
   "metadata": {},
   "outputs": [],
   "source": []
  }
 ],
 "metadata": {
  "kernelspec": {
   "display_name": "Python 3",
   "language": "python",
   "name": "python3"
  },
  "language_info": {
   "codemirror_mode": {
    "name": "ipython",
    "version": 3
   },
   "file_extension": ".py",
   "mimetype": "text/x-python",
   "name": "python",
   "nbconvert_exporter": "python",
   "pygments_lexer": "ipython3",
   "version": "3.7.0"
  }
 },
 "nbformat": 4,
 "nbformat_minor": 2
}
