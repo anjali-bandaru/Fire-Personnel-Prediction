{
 "cells": [
  {
   "cell_type": "code",
   "execution_count": 2,
   "metadata": {},
   "outputs": [],
   "source": [
    "import pandas as pd\n",
    "import numpy as np"
   ]
  },
  {
   "cell_type": "code",
   "execution_count": null,
   "metadata": {},
   "outputs": [],
   "source": [
    "# %matplotlib inline "
   ]
  },
  {
   "cell_type": "code",
   "execution_count": null,
   "metadata": {
    "scrolled": true
   },
   "outputs": [],
   "source": [
    "read_df = pd.read_csv('Fire_Incidents.tsv', sep='\\t')"
   ]
  },
  {
   "cell_type": "code",
   "execution_count": null,
   "metadata": {},
   "outputs": [],
   "source": [
    "read_df.shape"
   ]
  },
  {
   "cell_type": "code",
   "execution_count": null,
   "metadata": {},
   "outputs": [],
   "source": [
    "read_df.describe()"
   ]
  },
  {
   "cell_type": "code",
   "execution_count": null,
   "metadata": {},
   "outputs": [],
   "source": [
    "read_df['Station Area'].unique()"
   ]
  },
  {
   "cell_type": "code",
   "execution_count": null,
   "metadata": {},
   "outputs": [],
   "source": [
    " read_df.count()"
   ]
  },
  {
   "cell_type": "code",
   "execution_count": null,
   "metadata": {},
   "outputs": [],
   "source": [
    "read_df['Property Use'].unique()"
   ]
  },
  {
   "cell_type": "code",
   "execution_count": null,
   "metadata": {},
   "outputs": [],
   "source": [
    "def Property_Use_Conv(read_df):\n",
    "        temp = str(read_df)\n",
    "        return temp[:3]\n",
    "        "
   ]
  },
  {
   "cell_type": "code",
   "execution_count": null,
   "metadata": {},
   "outputs": [],
   "source": [
    "temp = str(read_df['Property Use'][1])"
   ]
  },
  {
   "cell_type": "code",
   "execution_count": null,
   "metadata": {},
   "outputs": [],
   "source": [
    "temp"
   ]
  },
  {
   "cell_type": "code",
   "execution_count": null,
   "metadata": {},
   "outputs": [],
   "source": [
    "Property_Use_Conv(temp)"
   ]
  },
  {
   "cell_type": "code",
   "execution_count": null,
   "metadata": {},
   "outputs": [],
   "source": [
    "import re\n",
    "re.findall(r'\\d+',str(read_df['Property Use'] )"
   ]
  },
  {
   "cell_type": "code",
   "execution_count": null,
   "metadata": {},
   "outputs": [],
   "source": [
    "read_df['Property Use']"
   ]
  },
  {
   "cell_type": "code",
   "execution_count": null,
   "metadata": {},
   "outputs": [],
   "source": [
    "read_df['Property Use'] = read_df['Property Use'].apply(lambda s: Property_Use_Conv(s))"
   ]
  },
  {
   "cell_type": "code",
   "execution_count": null,
   "metadata": {},
   "outputs": [],
   "source": [
    "read_df['Property Use'].value_counts()"
   ]
  },
  {
   "cell_type": "code",
   "execution_count": null,
   "metadata": {},
   "outputs": [],
   "source": [
    "read_df['Property Use'] = read_df['Property Use'].apply(lambda s: 500 if str(s) == 'uuu' or str(s) == 'nnn' else s)"
   ]
  },
  {
   "cell_type": "code",
   "execution_count": null,
   "metadata": {},
   "outputs": [],
   "source": [
    "read_df['Property Use'].value_counts()"
   ]
  },
  {
   "cell_type": "code",
   "execution_count": null,
   "metadata": {},
   "outputs": [],
   "source": [
    "#imputed[ 'Property Use' ] = read_df['Property Use'].fillna( read_df['Property Use'].median() )"
   ]
  },
  {
   "cell_type": "code",
   "execution_count": null,
   "metadata": {},
   "outputs": [],
   "source": [
    "read_df['Civilian Fatalities'].head(10)"
   ]
  },
  {
   "cell_type": "code",
   "execution_count": null,
   "metadata": {},
   "outputs": [],
   "source": [
    "read_df['Civilian Fatalities'].unique()"
   ]
  },
  {
   "cell_type": "code",
   "execution_count": null,
   "metadata": {},
   "outputs": [],
   "source": [
    "read_df['Civilian Injuries'].head(10)"
   ]
  },
  {
   "cell_type": "code",
   "execution_count": null,
   "metadata": {},
   "outputs": [],
   "source": [
    "read_df['Civilian Injuries'].unique()"
   ]
  },
  {
   "cell_type": "code",
   "execution_count": null,
   "metadata": {},
   "outputs": [],
   "source": [
    "read_df['Mutual Aid'].head(10)"
   ]
  },
  {
   "cell_type": "code",
   "execution_count": null,
   "metadata": {},
   "outputs": [],
   "source": [
    "read_df['Mutual Aid'].count()"
   ]
  },
  {
   "cell_type": "code",
   "execution_count": null,
   "metadata": {},
   "outputs": [],
   "source": [
    " read_df.count()"
   ]
  },
  {
   "cell_type": "code",
   "execution_count": null,
   "metadata": {},
   "outputs": [],
   "source": [
    "read_df.describe()"
   ]
  },
  {
   "cell_type": "code",
   "execution_count": null,
   "metadata": {},
   "outputs": [],
   "source": [
    "read_df['Zipcode'].unique()"
   ]
  },
  {
   "cell_type": "code",
   "execution_count": null,
   "metadata": {},
   "outputs": [],
   "source": []
  },
  {
   "cell_type": "code",
   "execution_count": null,
   "metadata": {},
   "outputs": [],
   "source": [
    "# read_df['Zipcode'].isna().sum()"
   ]
  },
  {
   "cell_type": "code",
   "execution_count": null,
   "metadata": {},
   "outputs": [],
   "source": [
    "# read_df['Zipcode'] = read_df['Zipcode'].dropna()"
   ]
  },
  {
   "cell_type": "code",
   "execution_count": null,
   "metadata": {},
   "outputs": [],
   "source": [
    "read_df.shape"
   ]
  },
  {
   "cell_type": "code",
   "execution_count": null,
   "metadata": {},
   "outputs": [],
   "source": [
    "read_df"
   ]
  },
  {
   "cell_type": "code",
   "execution_count": null,
   "metadata": {},
   "outputs": [],
   "source": [
    "df_X = read_df.drop(['Number of Alarms', 'Number of floors with minimum damage', 'Number of floors with significant damage', 'Ignition Cause', 'Number of floors with heavy damage', 'Number of floors with extreme damage', 'Detector Failure Reason', 'Number of Sprinkler Heads Operating', 'Item First Ignited', 'Automatic Extinguishing Sytem Type', 'Automatic Extinguishing Sytem Perfomance', 'Automatic Extinguishing Sytem Failure Reason', 'Supervisor District', 'Neighborhood  District'  ], axis = 1)"
   ]
  },
  {
   "cell_type": "code",
   "execution_count": null,
   "metadata": {},
   "outputs": [],
   "source": [
    "df_X.describe()"
   ]
  },
  {
   "cell_type": "code",
   "execution_count": null,
   "metadata": {},
   "outputs": [],
   "source": [
    "df_X['Detector Operation'].unique()"
   ]
  },
  {
   "cell_type": "code",
   "execution_count": null,
   "metadata": {},
   "outputs": [],
   "source": [
    "df_X['First Unit On Scene'].unique()"
   ]
  },
  {
   "cell_type": "code",
   "execution_count": null,
   "metadata": {},
   "outputs": [],
   "source": [
    "df_X['Action Taken Secondary'].unique()"
   ]
  },
  {
   "cell_type": "code",
   "execution_count": null,
   "metadata": {},
   "outputs": [],
   "source": [
    "df_X.count()"
   ]
  },
  {
   "cell_type": "code",
   "execution_count": null,
   "metadata": {},
   "outputs": [],
   "source": [
    "df_X.shape"
   ]
  },
  {
   "cell_type": "code",
   "execution_count": null,
   "metadata": {},
   "outputs": [],
   "source": [
    "df_X['Primary Situation'].unique()"
   ]
  },
  {
   "cell_type": "code",
   "execution_count": null,
   "metadata": {},
   "outputs": [],
   "source": [
    "df_X['Fire Spread'].unique()"
   ]
  },
  {
   "cell_type": "code",
   "execution_count": null,
   "metadata": {},
   "outputs": [],
   "source": [
    "df_X['Primary Situation'].unique()"
   ]
  },
  {
   "cell_type": "code",
   "execution_count": null,
   "metadata": {},
   "outputs": [],
   "source": []
  },
  {
   "cell_type": "code",
   "execution_count": null,
   "metadata": {},
   "outputs": [],
   "source": [
    "df_X['Action Taken Other'].unique()"
   ]
  },
  {
   "cell_type": "code",
   "execution_count": null,
   "metadata": {},
   "outputs": [],
   "source": [
    "df_X1 = df_X.drop(['Human Factors Associated with Ignition','Arrival DtTm', 'Close DtTm', 'No Flame Spead', 'Mutual Aid','City','Fire Spread','Detector Type','Detector Operation','Detector Effectiveness', 'Primary Situation', 'Other Units'\n",
    " ,'Other Personnel', 'Action Taken Other', 'Action Taken Secondary', 'First Unit On Scene', 'Call Number'], axis=1)"
   ]
  },
  {
   "cell_type": "code",
   "execution_count": null,
   "metadata": {},
   "outputs": [],
   "source": [
    "df_X1['Action Taken Primary'].head(10)"
   ]
  },
  {
   "cell_type": "code",
   "execution_count": null,
   "metadata": {},
   "outputs": [],
   "source": [
    "df_X1['Structure Status'].unique()"
   ]
  },
  {
   "cell_type": "code",
   "execution_count": null,
   "metadata": {},
   "outputs": [],
   "source": [
    "df_X1['Structure Type'].unique()"
   ]
  },
  {
   "cell_type": "code",
   "execution_count": null,
   "metadata": {},
   "outputs": [],
   "source": [
    "df_X1['Floor of Fire Origin'].unique()"
   ]
  },
  {
   "cell_type": "code",
   "execution_count": null,
   "metadata": {},
   "outputs": [],
   "source": [
    "df_X1['Automatic Extinguishing System Present'].unique()"
   ]
  },
  {
   "cell_type": "code",
   "execution_count": null,
   "metadata": {},
   "outputs": [],
   "source": [
    "df_X1.shape"
   ]
  },
  {
   "cell_type": "code",
   "execution_count": null,
   "metadata": {
    "scrolled": false
   },
   "outputs": [],
   "source": [
    "df_X1['Area of Fire Origin'].unique()\n",
    "#df_aor = df_X1[df_X1['Area of Fire Origin'] == 'nan']\n"
   ]
  },
  {
   "cell_type": "code",
   "execution_count": null,
   "metadata": {},
   "outputs": [],
   "source": [
    "df_X1['Box'].unique()"
   ]
  },
  {
   "cell_type": "code",
   "execution_count": null,
   "metadata": {},
   "outputs": [],
   "source": [
    "# # Visualisation\n",
    "# import matplotlib as mpl\n",
    "# import matplotlib.pyplot as plt\n",
    "# import matplotlib.pylab as pylab\n",
    "# import seaborn as sns\n",
    "\n",
    "# # Configure visualisations\n",
    "# %matplotlib inline\n",
    "# mpl.style.use( 'ggplot' )\n",
    "# sns.set_style( 'white' )\n",
    "# pylab.rcParams[ 'figure.figsize' ] = 10, 8\n",
    "\n",
    "# def plot_correlation_map( df ):\n",
    "#     corr = df.corr()\n",
    "#     _ , ax = plt.subplots( figsize =( 20 , 20 ) )\n",
    "#     cmap = sns.diverging_palette( 220 , 10 , as_cmap = True )\n",
    "#     _ = sns.heatmap(\n",
    "#         corr, \n",
    "#         cmap = cmap,\n",
    "#         square=True, \n",
    "#         cbar_kws={ 'shrink' : .9 }, \n",
    "#         ax=ax, \n",
    "#         annot = True, \n",
    "#         annot_kws = { 'fontsize' : 8 }\n",
    "#     )"
   ]
  },
  {
   "cell_type": "code",
   "execution_count": null,
   "metadata": {},
   "outputs": [],
   "source": [
    "#plot_correlation_map(df_X1)"
   ]
  },
  {
   "cell_type": "code",
   "execution_count": null,
   "metadata": {},
   "outputs": [],
   "source": [
    "df_X1.shape"
   ]
  },
  {
   "cell_type": "code",
   "execution_count": null,
   "metadata": {
    "scrolled": true
   },
   "outputs": [],
   "source": [
    "df_X1.head(10)"
   ]
  },
  {
   "cell_type": "code",
   "execution_count": null,
   "metadata": {},
   "outputs": [],
   "source": [
    "# plot_correlation_map(read_df)"
   ]
  },
  {
   "cell_type": "code",
   "execution_count": 2,
   "metadata": {},
   "outputs": [],
   "source": [
    "from datetime import datetime\n",
    "\n",
    "def convert_date_to_weekday(tmstp):\n",
    "    result = datetime.strptime(tmstp, '%m/%d/%Y %I:%M:%S %p').weekday()\n",
    "    return result\n",
    "    \n",
    "def convert_date_to_hour(tmstp):\n",
    "    result = datetime.strptime(tmstp, '%m/%d/%Y %I:%M:%S %p').hour\n",
    "    return result\n",
    "\n",
    "def convert_date_to_month(tmstp):\n",
    "    result = datetime.strptime(tmstp, '%m/%d/%Y %I:%M:%S %p').month\n",
    "    return result"
   ]
  },
  {
   "cell_type": "code",
   "execution_count": null,
   "metadata": {},
   "outputs": [],
   "source": [
    "df_X1['Weekday'] = df_X1['Alarm DtTm'].apply(lambda x: convert_date_to_weekday(x))"
   ]
  },
  {
   "cell_type": "code",
   "execution_count": null,
   "metadata": {},
   "outputs": [],
   "source": [
    "df_X1['Hour'] = df_X1['Alarm DtTm'].apply(lambda x: convert_date_to_hour(x))"
   ]
  },
  {
   "cell_type": "code",
   "execution_count": null,
   "metadata": {},
   "outputs": [],
   "source": [
    "df_X1['Month'] = df_X1['Alarm DtTm'].apply(lambda x: convert_date_to_month(x))"
   ]
  },
  {
   "cell_type": "code",
   "execution_count": null,
   "metadata": {},
   "outputs": [],
   "source": [
    "df_X2 = df_X1.drop(['Exposure Number','Location', 'Ignition Factor Secondary', 'Heat Source','Floor of Fire Origin','Box' ,'Structure Status','Alarm DtTm', 'Area of Fire Origin', 'Incident Date', 'Incident Number', 'Action Taken Primary','Ignition Factor Primary', 'Structure Type', 'Automatic Extinguishing System Present','Detectors Present','Property Use','Estimated Property Loss','Estimated Contents Loss', 'Detector Alerted Occupants', 'Address'], axis=1)"
   ]
  },
  {
   "cell_type": "code",
   "execution_count": null,
   "metadata": {},
   "outputs": [],
   "source": [
    "df_X2.head(10)"
   ]
  },
  {
   "cell_type": "code",
   "execution_count": null,
   "metadata": {},
   "outputs": [],
   "source": [
    "list(df_X2)"
   ]
  },
  {
   "cell_type": "code",
   "execution_count": null,
   "metadata": {},
   "outputs": [],
   "source": [
    "# plot_correlation_map(df_X2)"
   ]
  },
  {
   "cell_type": "code",
   "execution_count": null,
   "metadata": {},
   "outputs": [],
   "source": [
    "df_X1['Area of Fire Origin'].unique()"
   ]
  },
  {
   "cell_type": "code",
   "execution_count": null,
   "metadata": {},
   "outputs": [],
   "source": [
    "df_X1['Detector Alerted Occupants'].unique()"
   ]
  },
  {
   "cell_type": "code",
   "execution_count": null,
   "metadata": {},
   "outputs": [],
   "source": [
    "df_X1['Property Use'].unique()"
   ]
  },
  {
   "cell_type": "code",
   "execution_count": null,
   "metadata": {},
   "outputs": [],
   "source": [
    "df_X1['Structure Type'].unique()"
   ]
  },
  {
   "cell_type": "code",
   "execution_count": null,
   "metadata": {},
   "outputs": [],
   "source": [
    "df_X1['Structure Status'].unique()"
   ]
  },
  {
   "cell_type": "code",
   "execution_count": null,
   "metadata": {},
   "outputs": [],
   "source": [
    "df_X1['Structure Status'].value_counts()"
   ]
  },
  {
   "cell_type": "code",
   "execution_count": null,
   "metadata": {},
   "outputs": [],
   "source": [
    "df_X1['Structure Type'].value_counts()"
   ]
  },
  {
   "cell_type": "code",
   "execution_count": null,
   "metadata": {},
   "outputs": [],
   "source": [
    "df_X1['Structure Type']"
   ]
  },
  {
   "cell_type": "markdown",
   "metadata": {},
   "source": [
    "#### Needed in preprocessing to train the model, not needed to test it"
   ]
  },
  {
   "cell_type": "markdown",
   "metadata": {},
   "source": [
    "df_X2 = df_X2.drop_duplicates()"
   ]
  },
  {
   "cell_type": "code",
   "execution_count": null,
   "metadata": {},
   "outputs": [],
   "source": [
    "\n",
    "#df_X2 = df_X2.dropna()"
   ]
  },
  {
   "cell_type": "code",
   "execution_count": null,
   "metadata": {},
   "outputs": [],
   "source": [
    "df_X2.head(10)"
   ]
  },
  {
   "cell_type": "code",
   "execution_count": null,
   "metadata": {},
   "outputs": [],
   "source": [
    "df_X2.shape"
   ]
  },
  {
   "cell_type": "code",
   "execution_count": null,
   "metadata": {
    "scrolled": true
   },
   "outputs": [],
   "source": [
    "df_X2.count()"
   ]
  },
  {
   "cell_type": "code",
   "execution_count": null,
   "metadata": {},
   "outputs": [],
   "source": [
    "df_X2.head()"
   ]
  },
  {
   "cell_type": "code",
   "execution_count": null,
   "metadata": {},
   "outputs": [],
   "source": []
  },
  {
   "cell_type": "code",
   "execution_count": null,
   "metadata": {},
   "outputs": [],
   "source": [
    "#df_X2['Estimated Property Loss'].min()"
   ]
  },
  {
   "cell_type": "code",
   "execution_count": null,
   "metadata": {},
   "outputs": [],
   "source": [
    "#df_X2['Estimated Property Loss'] = df_X2['Estimated Property Loss'].apply(lambda x : x if  x > 0 else 0 )"
   ]
  },
  {
   "cell_type": "code",
   "execution_count": null,
   "metadata": {},
   "outputs": [],
   "source": [
    "#df_X2['Estimated Property Loss'].min()"
   ]
  },
  {
   "cell_type": "code",
   "execution_count": null,
   "metadata": {},
   "outputs": [],
   "source": []
  },
  {
   "cell_type": "code",
   "execution_count": null,
   "metadata": {},
   "outputs": [],
   "source": [
    "# Create dataset\n",
    "#imputed = pd.DataFrame()\n",
    "\n",
    "# Fill missing values of Age with the average of Age (mean)\n",
    "#imputed[ 'Estimated Property Loss' ] = df_X2['Estimated Property Loss'].fillna( df_X2['Estimated Property Loss'].mean() )"
   ]
  },
  {
   "cell_type": "code",
   "execution_count": null,
   "metadata": {},
   "outputs": [],
   "source": [
    "#imputed[ 'Estimated Property Loss' ] = df_X2['Estimated Property Loss'].fillna( df_X2['Estimated Property Loss'].mean() )"
   ]
  },
  {
   "cell_type": "code",
   "execution_count": null,
   "metadata": {},
   "outputs": [],
   "source": [
    "#imputed[ 'Estimated Property Loss' ].min()"
   ]
  },
  {
   "cell_type": "code",
   "execution_count": null,
   "metadata": {},
   "outputs": [],
   "source": [
    "#df_X2['Estimated Contents Loss'].min()"
   ]
  },
  {
   "cell_type": "code",
   "execution_count": null,
   "metadata": {},
   "outputs": [],
   "source": [
    "#df_X2['Estimated Contents Loss'] = df_X2['Estimated Contents Loss'].apply(lambda x : x if  x > 0 else 0 )"
   ]
  },
  {
   "cell_type": "code",
   "execution_count": null,
   "metadata": {},
   "outputs": [],
   "source": [
    "#df_X2['Estimated Contents Loss'].min()"
   ]
  },
  {
   "cell_type": "code",
   "execution_count": null,
   "metadata": {},
   "outputs": [],
   "source": [
    "#imputed[ 'Estimated Contents Loss' ] = df_X2['Estimated Contents Loss'].fillna( df_X2['Estimated Contents Loss'].mean() )"
   ]
  },
  {
   "cell_type": "code",
   "execution_count": null,
   "metadata": {},
   "outputs": [],
   "source": [
    "#imputed[ 'Estimated Contents Loss' ]"
   ]
  },
  {
   "cell_type": "code",
   "execution_count": null,
   "metadata": {},
   "outputs": [],
   "source": [
    "#! pip install impyute"
   ]
  },
  {
   "cell_type": "code",
   "execution_count": null,
   "metadata": {},
   "outputs": [],
   "source": [
    "# from impyute.imputation.cs import mice\n",
    "\n",
    "# # start the MICE training\n",
    "# imputed_training=mice(df_X2['Estimated Property Loss'].values)"
   ]
  },
  {
   "cell_type": "code",
   "execution_count": null,
   "metadata": {},
   "outputs": [],
   "source": [
    "#df_X2[ 'Detector Alerted Occupants'][:500]"
   ]
  },
  {
   "cell_type": "code",
   "execution_count": null,
   "metadata": {},
   "outputs": [],
   "source": [
    "#imputed[ 'Estimated Property Loss' ] = df_X2['Estimated Property Loss'].fillna( df_X2['Estimated Property Loss']"
   ]
  },
  {
   "cell_type": "code",
   "execution_count": null,
   "metadata": {},
   "outputs": [],
   "source": [
    "# df_X2 = df_X2[df_X2.Zipcode != 'Nan']\n",
    "# df_X2.where(filter1,inplace=True)"
   ]
  },
  {
   "cell_type": "code",
   "execution_count": null,
   "metadata": {},
   "outputs": [],
   "source": [
    "df_X2 = df_X2[pd.notnull(df_X2['Zipcode'])]"
   ]
  },
  {
   "cell_type": "code",
   "execution_count": null,
   "metadata": {},
   "outputs": [],
   "source": [
    "df_X2.shape"
   ]
  },
  {
   "cell_type": "code",
   "execution_count": null,
   "metadata": {},
   "outputs": [],
   "source": [
    "df_X2.head(10)"
   ]
  },
  {
   "cell_type": "code",
   "execution_count": null,
   "metadata": {},
   "outputs": [],
   "source": []
  },
  {
   "cell_type": "code",
   "execution_count": null,
   "metadata": {},
   "outputs": [],
   "source": []
  },
  {
   "cell_type": "code",
   "execution_count": null,
   "metadata": {},
   "outputs": [],
   "source": [
    "df_X2['Battalion'].unique()\n",
    "df_X2['Battalion'] = pd.Categorical(df_X2['Battalion'])\n",
    "one_hot = pd.get_dummies(df_X2['Battalion'],prefix='Battalion')\n",
    "#df_X2 = df_X2.drop('Battalion',axis = 1)\n",
    "# Join the encoded df\n",
    "df_X2 = df_X2.join(one_hot)\n",
    "df_X2.head(10)"
   ]
  },
  {
   "cell_type": "code",
   "execution_count": null,
   "metadata": {},
   "outputs": [],
   "source": [
    "df_X2['Zipcode'].unique()\n",
    "df_X2['Zipcode'] = pd.Categorical(df_X2['Zipcode'])\n",
    "one_hot = pd.get_dummies(df_X2['Zipcode'],prefix='Zipcode')\n",
    "#df_X2 = df_X2.drop('Battalion',axis = 1)\n",
    "# Join the encoded df\n",
    "df_X2 = df_X2.join(one_hot)"
   ]
  },
  {
   "cell_type": "code",
   "execution_count": null,
   "metadata": {},
   "outputs": [],
   "source": [
    "df_X2.head(10)"
   ]
  },
  {
   "cell_type": "code",
   "execution_count": null,
   "metadata": {},
   "outputs": [],
   "source": [
    "list(df_X2)"
   ]
  },
  {
   "cell_type": "code",
   "execution_count": null,
   "metadata": {},
   "outputs": [],
   "source": [
    "df_y = df_X2['Suppression Personnel']"
   ]
  },
  {
   "cell_type": "code",
   "execution_count": null,
   "metadata": {},
   "outputs": [],
   "source": [
    "df_y"
   ]
  },
  {
   "cell_type": "code",
   "execution_count": null,
   "metadata": {},
   "outputs": [],
   "source": [
    "df_feature  = df_X2.drop(['Suppression Personnel','Battalion','Zipcode'],axis=1)"
   ]
  },
  {
   "cell_type": "code",
   "execution_count": null,
   "metadata": {},
   "outputs": [],
   "source": [
    "df_feature.head(10)"
   ]
  },
  {
   "cell_type": "code",
   "execution_count": null,
   "metadata": {},
   "outputs": [],
   "source": [
    "df_feature.shape"
   ]
  },
  {
   "cell_type": "code",
   "execution_count": 3,
   "metadata": {},
   "outputs": [],
   "source": [
    "def Property_Use_Conv(read_df):\n",
    "        temp = str(read_df)\n",
    "        #temp = re.sub(r'\\d+',temp )\n",
    "        return temp[:3]"
   ]
  },
  {
   "cell_type": "code",
   "execution_count": null,
   "metadata": {},
   "outputs": [],
   "source": [
    "read_df['Property Use'] = read_df['Property Use'].apply(lambda s: Property_Use_Conv(s))"
   ]
  },
  {
   "cell_type": "code",
   "execution_count": null,
   "metadata": {},
   "outputs": [],
   "source": [
    "read_df['Property Use'].head(10)"
   ]
  },
  {
   "cell_type": "code",
   "execution_count": null,
   "metadata": {},
   "outputs": [],
   "source": [
    "read_df['Property Use'] = read_df['Property Use'].apply(lambda s: 500 if str(s) == 'uuu' or str(s) == 'nnn' else s)"
   ]
  },
  {
   "cell_type": "code",
   "execution_count": null,
   "metadata": {},
   "outputs": [],
   "source": [
    "read_df['Property Use'] = read_df['Property Use'].apply(lambda s: Property_Use_Conv(s))"
   ]
  },
  {
   "cell_type": "code",
   "execution_count": null,
   "metadata": {},
   "outputs": [],
   "source": [
    "read_df['Property Use'].value_counts()"
   ]
  },
  {
   "cell_type": "code",
   "execution_count": 76,
   "metadata": {},
   "outputs": [],
   "source": [
    "def preprocessInput(read_df):\n",
    "    df_X = read_df.drop(['Number of Alarms', 'Number of floors with minimum damage', 'Number of floors with significant damage', 'Ignition Cause', 'Number of floors with heavy damage', 'Number of floors with extreme damage', 'Detector Failure Reason', 'Number of Sprinkler Heads Operating', 'Item First Ignited', 'Automatic Extinguishing Sytem Type', 'Automatic Extinguishing Sytem Perfomance', 'Automatic Extinguishing Sytem Failure Reason', 'Supervisor District', 'Neighborhood  District'  ], axis = 1)\n",
    "    df_X1 = df_X.drop(['Human Factors Associated with Ignition','Arrival DtTm', 'Close DtTm', 'No Flame Spead', 'Mutual Aid','City','Fire Spread','Detector Type','Detector Operation','Detector Effectiveness', 'Other Units'\n",
    " ,'Other Personnel', 'Action Taken Other', 'Action Taken Secondary', 'First Unit On Scene', 'Call Number'], axis=1)\n",
    "    df_X1['Weekday'] = df_X1['Alarm DtTm'].apply(lambda x: convert_date_to_weekday(x))\n",
    "    df_X1['Hour'] = df_X1['Alarm DtTm'].apply(lambda x: convert_date_to_hour(x))\n",
    "    df_X1['Month'] = df_X1['Alarm DtTm'].apply(lambda x: convert_date_to_month(x))\n",
    "    df_X1['Property Use'] = df_X1['Property Use'].apply(lambda s: Property_Use_Conv(s))\n",
    "    df_X1['Property Use'] = df_X1['Property Use'].apply(lambda s: 500 if str(s) == 'uuu' or str(s) == 'nnn' or str(s) == 'nan' or str(s) == '-' else s)\n",
    "    df_X1['Property Use'] = df_X1['Property Use'].apply(lambda s: str(s)[0] if str(s).find('-') != -1 else s)\n",
    "    \n",
    "    df_X1['Primary Situation'] = df_X1['Primary Situation'].apply(lambda s: Property_Use_Conv(s))\n",
    "    df_X1['Primary Situation'] = df_X1['Primary Situation'].apply(lambda s: 650 if str(s) == 'n/a' or str(s).startswith('cr') or str(s).startswith('y') or str(s) == '-' else s)\n",
    "    df_X1['Primary Situation'] = df_X1['Primary Situation'].apply(lambda s: str(s)[0] if str(s).find('-') != -1 or str(s).find('*') != -1 else s)  \n",
    "    \n",
    "        \n",
    "    df_X1['Station Area'] = df_X1['Station Area'].apply(lambda s: 40 if str(s).startswith('A') or str(s).startswith('H') or str(s).startswith('O') or str(s).startswith('nan') or str(s) == '-' else s)\n",
    "    #df_X1['Station Area'] = df_X1['Station Area'].apply(lambda s: str(s)[0] if str(s).find('-') != -1 or str(s).find('*') != -1 else s)  \n",
    "    \n",
    "    df_X2 = df_X1.drop(['Exposure Number','Location', 'Ignition Factor Secondary', 'Heat Source','Floor of Fire Origin','Box' ,'Structure Status','Alarm DtTm', 'Area of Fire Origin', 'Incident Date', 'Incident Number', 'Action Taken Primary','Ignition Factor Primary', 'Structure Type', 'Automatic Extinguishing System Present','Detectors Present','Estimated Property Loss','Estimated Contents Loss', 'Detector Alerted Occupants', 'Address'], axis=1)\n",
    "    df_X2['Battalion'].unique()\n",
    "    df_X2['Battalion'] = pd.Categorical(df_X2['Battalion'])\n",
    "    one_hot = pd.get_dummies(df_X2['Battalion'],prefix='Battalion')\n",
    "    #df_X2 = df_X2.drop('Battalion',axis = 1)\n",
    "    # Join the encoded df\n",
    "    df_X2 = df_X2.join(one_hot)\n",
    "    df_X2['Zipcode'] = pd.Categorical(df_X2['Zipcode'])\n",
    "    one_hot = pd.get_dummies(df_X2['Zipcode'],prefix='Zipcode')\n",
    "    #df_X2 = df_X2.drop('Battalion',axis = 1)\n",
    "    # Join the encoded df\n",
    "    df_X2 = df_X2.join(one_hot)\n",
    "    df_feature  = df_X2.drop(['Battalion','Zipcode'],axis=1)\n",
    "    return df_feature"
   ]
  },
  {
   "cell_type": "code",
   "execution_count": 77,
   "metadata": {},
   "outputs": [],
   "source": [
    "#     df_X1['Station Area'] = df_X1['Station Area'].apply(lambda s: 40 if str(s).startswith('A') or str(s).startswith('H') or str(s).startswith('O') or str(s).startswith('nan') or str(s) == '-' else s)\n"
   ]
  },
  {
   "cell_type": "code",
   "execution_count": 78,
   "metadata": {},
   "outputs": [],
   "source": [
    "# read_df = pd.read_csv('Fire_Incidents.tsv', sep='\\t')\n"
   ]
  },
  {
   "cell_type": "code",
   "execution_count": 79,
   "metadata": {},
   "outputs": [
    {
     "name": "stderr",
     "output_type": "stream",
     "text": [
      "C:\\ProgramData\\Anaconda3\\lib\\site-packages\\IPython\\core\\interactiveshell.py:3049: DtypeWarning: Columns (11,12,19,37,44,58) have mixed types. Specify dtype option on import or set low_memory=False.\n",
      "  interactivity=interactivity, compiler=compiler, result=result)\n"
     ]
    }
   ],
   "source": [
    "read_df = pd.read_csv('Fire_Incidents.tsv', sep='\\t')\n",
    "df_feature = preprocessInput(read_df)\n",
    "df_y = df_feature['Suppression Personnel']\n",
    "df_feature = df_feature.drop(['Suppression Personnel'],axis=1)\n"
   ]
  },
  {
   "cell_type": "code",
   "execution_count": 80,
   "metadata": {},
   "outputs": [
    {
     "data": {
      "text/plain": [
       "01      37481\n",
       "03      24330\n",
       "36      18361\n",
       "13      15869\n",
       "07      15211\n",
       "05      11903\n",
       "1.0     11557\n",
       "06      11535\n",
       "3.0     10245\n",
       "28      10145\n",
       "08      10022\n",
       "17       9797\n",
       "16       9750\n",
       "41       9247\n",
       "10       8941\n",
       "11       8512\n",
       "21       8489\n",
       "38       8306\n",
       "40       8217\n",
       "31       7518\n",
       "43       7513\n",
       "36.0     7437\n",
       "19       7293\n",
       "44       7105\n",
       "15       7007\n",
       "29       6757\n",
       "32       6520\n",
       "33       6460\n",
       "02       6365\n",
       "35       6059\n",
       "        ...  \n",
       "44.0     2464\n",
       "43.0     2404\n",
       "32.0     2247\n",
       "12.0     2039\n",
       "9.0      2014\n",
       "33.0     1984\n",
       "22.0     1950\n",
       "20       1950\n",
       "42.0     1888\n",
       "14.0     1877\n",
       "25.0     1837\n",
       "48       1810\n",
       "18.0     1768\n",
       "23.0     1693\n",
       "34.0     1593\n",
       "37.0     1546\n",
       "39.0     1518\n",
       "51       1467\n",
       "51.0     1223\n",
       "24.0     1137\n",
       "26.0     1087\n",
       "4.0       870\n",
       "48.0      706\n",
       "20.0      569\n",
       "04        131\n",
       "47.0       49\n",
       "53         18\n",
       "47         17\n",
       "99          2\n",
       "94.0        1\n",
       "Name: Station Area, Length: 93, dtype: int64"
      ]
     },
     "execution_count": 80,
     "metadata": {},
     "output_type": "execute_result"
    }
   ],
   "source": [
    "df_feature['Station Area'].value_counts()"
   ]
  },
  {
   "cell_type": "code",
   "execution_count": 81,
   "metadata": {},
   "outputs": [
    {
     "data": {
      "text/html": [
       "<div>\n",
       "<style scoped>\n",
       "    .dataframe tbody tr th:only-of-type {\n",
       "        vertical-align: middle;\n",
       "    }\n",
       "\n",
       "    .dataframe tbody tr th {\n",
       "        vertical-align: top;\n",
       "    }\n",
       "\n",
       "    .dataframe thead th {\n",
       "        text-align: right;\n",
       "    }\n",
       "</style>\n",
       "<table border=\"1\" class=\"dataframe\">\n",
       "  <thead>\n",
       "    <tr style=\"text-align: right;\">\n",
       "      <th></th>\n",
       "      <th>Station Area</th>\n",
       "      <th>Suppression Units</th>\n",
       "      <th>EMS Units</th>\n",
       "      <th>EMS Personnel</th>\n",
       "      <th>Fire Fatalities</th>\n",
       "      <th>Fire Injuries</th>\n",
       "      <th>Civilian Fatalities</th>\n",
       "      <th>Civilian Injuries</th>\n",
       "      <th>Primary Situation</th>\n",
       "      <th>Property Use</th>\n",
       "      <th>...</th>\n",
       "      <th>Zipcode_94123.0</th>\n",
       "      <th>Zipcode_94124.0</th>\n",
       "      <th>Zipcode_94127.0</th>\n",
       "      <th>Zipcode_94129.0</th>\n",
       "      <th>Zipcode_94130.0</th>\n",
       "      <th>Zipcode_94131.0</th>\n",
       "      <th>Zipcode_94132.0</th>\n",
       "      <th>Zipcode_94133.0</th>\n",
       "      <th>Zipcode_94134.0</th>\n",
       "      <th>Zipcode_94158.0</th>\n",
       "    </tr>\n",
       "  </thead>\n",
       "  <tbody>\n",
       "    <tr>\n",
       "      <th>0</th>\n",
       "      <td>15</td>\n",
       "      <td>1</td>\n",
       "      <td>0</td>\n",
       "      <td>0</td>\n",
       "      <td>0</td>\n",
       "      <td>0</td>\n",
       "      <td>0</td>\n",
       "      <td>0</td>\n",
       "      <td>551</td>\n",
       "      <td>000</td>\n",
       "      <td>...</td>\n",
       "      <td>0</td>\n",
       "      <td>0</td>\n",
       "      <td>0</td>\n",
       "      <td>0</td>\n",
       "      <td>0</td>\n",
       "      <td>0</td>\n",
       "      <td>0</td>\n",
       "      <td>0</td>\n",
       "      <td>0</td>\n",
       "      <td>0</td>\n",
       "    </tr>\n",
       "    <tr>\n",
       "      <th>1</th>\n",
       "      <td>39</td>\n",
       "      <td>3</td>\n",
       "      <td>0</td>\n",
       "      <td>0</td>\n",
       "      <td>0</td>\n",
       "      <td>0</td>\n",
       "      <td>0</td>\n",
       "      <td>0</td>\n",
       "      <td>745</td>\n",
       "      <td>429</td>\n",
       "      <td>...</td>\n",
       "      <td>0</td>\n",
       "      <td>0</td>\n",
       "      <td>0</td>\n",
       "      <td>0</td>\n",
       "      <td>0</td>\n",
       "      <td>0</td>\n",
       "      <td>0</td>\n",
       "      <td>0</td>\n",
       "      <td>0</td>\n",
       "      <td>0</td>\n",
       "    </tr>\n",
       "    <tr>\n",
       "      <th>2</th>\n",
       "      <td>01</td>\n",
       "      <td>3</td>\n",
       "      <td>0</td>\n",
       "      <td>0</td>\n",
       "      <td>0</td>\n",
       "      <td>0</td>\n",
       "      <td>0</td>\n",
       "      <td>0</td>\n",
       "      <td>711</td>\n",
       "      <td>963</td>\n",
       "      <td>...</td>\n",
       "      <td>0</td>\n",
       "      <td>0</td>\n",
       "      <td>0</td>\n",
       "      <td>0</td>\n",
       "      <td>0</td>\n",
       "      <td>0</td>\n",
       "      <td>0</td>\n",
       "      <td>0</td>\n",
       "      <td>0</td>\n",
       "      <td>0</td>\n",
       "    </tr>\n",
       "    <tr>\n",
       "      <th>3</th>\n",
       "      <td>10</td>\n",
       "      <td>3</td>\n",
       "      <td>0</td>\n",
       "      <td>0</td>\n",
       "      <td>0</td>\n",
       "      <td>0</td>\n",
       "      <td>0</td>\n",
       "      <td>0</td>\n",
       "      <td>746</td>\n",
       "      <td>419</td>\n",
       "      <td>...</td>\n",
       "      <td>0</td>\n",
       "      <td>0</td>\n",
       "      <td>0</td>\n",
       "      <td>0</td>\n",
       "      <td>0</td>\n",
       "      <td>0</td>\n",
       "      <td>0</td>\n",
       "      <td>0</td>\n",
       "      <td>0</td>\n",
       "      <td>0</td>\n",
       "    </tr>\n",
       "    <tr>\n",
       "      <th>4</th>\n",
       "      <td>03</td>\n",
       "      <td>2</td>\n",
       "      <td>0</td>\n",
       "      <td>0</td>\n",
       "      <td>0</td>\n",
       "      <td>0</td>\n",
       "      <td>0</td>\n",
       "      <td>0</td>\n",
       "      <td>711</td>\n",
       "      <td>960</td>\n",
       "      <td>...</td>\n",
       "      <td>0</td>\n",
       "      <td>0</td>\n",
       "      <td>0</td>\n",
       "      <td>0</td>\n",
       "      <td>0</td>\n",
       "      <td>0</td>\n",
       "      <td>0</td>\n",
       "      <td>0</td>\n",
       "      <td>0</td>\n",
       "      <td>0</td>\n",
       "    </tr>\n",
       "  </tbody>\n",
       "</table>\n",
       "<p>5 rows × 51 columns</p>\n",
       "</div>"
      ],
      "text/plain": [
       "  Station Area  Suppression Units  EMS Units  EMS Personnel  Fire Fatalities  \\\n",
       "0           15                  1          0              0                0   \n",
       "1           39                  3          0              0                0   \n",
       "2           01                  3          0              0                0   \n",
       "3           10                  3          0              0                0   \n",
       "4           03                  2          0              0                0   \n",
       "\n",
       "   Fire Injuries  Civilian Fatalities  Civilian Injuries Primary Situation  \\\n",
       "0              0                    0                  0               551   \n",
       "1              0                    0                  0               745   \n",
       "2              0                    0                  0               711   \n",
       "3              0                    0                  0               746   \n",
       "4              0                    0                  0               711   \n",
       "\n",
       "  Property Use  ...  Zipcode_94123.0  Zipcode_94124.0  Zipcode_94127.0  \\\n",
       "0          000  ...                0                0                0   \n",
       "1          429  ...                0                0                0   \n",
       "2          963  ...                0                0                0   \n",
       "3          419  ...                0                0                0   \n",
       "4          960  ...                0                0                0   \n",
       "\n",
       "   Zipcode_94129.0  Zipcode_94130.0  Zipcode_94131.0  Zipcode_94132.0  \\\n",
       "0                0                0                0                0   \n",
       "1                0                0                0                0   \n",
       "2                0                0                0                0   \n",
       "3                0                0                0                0   \n",
       "4                0                0                0                0   \n",
       "\n",
       "   Zipcode_94133.0  Zipcode_94134.0  Zipcode_94158.0  \n",
       "0                0                0                0  \n",
       "1                0                0                0  \n",
       "2                0                0                0  \n",
       "3                0                0                0  \n",
       "4                0                0                0  \n",
       "\n",
       "[5 rows x 51 columns]"
      ]
     },
     "execution_count": 81,
     "metadata": {},
     "output_type": "execute_result"
    }
   ],
   "source": [
    "df_feature.head()"
   ]
  },
  {
   "cell_type": "code",
   "execution_count": 82,
   "metadata": {},
   "outputs": [
    {
     "data": {
      "text/plain": [
       "array(['15', '39', '01', '10', '03', '16', '44', '40', '37', '35', '28',\n",
       "       '33', '31', '07', '02', '38', '43', '17', '36', '06', '48', '12',\n",
       "       '13', '23', '08', '20', 'A1', '41', '14', '29', '42', '21', '19',\n",
       "       '11', '25', 'A3', '09', '26', '22', '34', '32', '18', '24', '05',\n",
       "       'A2', '51', 'H1', nan, '53', '04', 'OT', 'A4', '99', '47', 1.0,\n",
       "       5.0, 32.0, 7.0, 3.0, 13.0, 28.0, 35.0, 10.0, 11.0, 33.0, 31.0, 9.0,\n",
       "       34.0, 41.0, 2.0, 29.0, 18.0, 20.0, 39.0, 21.0, 36.0, 8.0, 51.0,\n",
       "       14.0, 24.0, 17.0, 26.0, 25.0, 15.0, 16.0, 37.0, 38.0, 44.0, 4.0,\n",
       "       42.0, 12.0, 6.0, 43.0, 19.0, 22.0, 40.0, 48.0, 23.0, 47.0, 94.0],\n",
       "      dtype=object)"
      ]
     },
     "execution_count": 82,
     "metadata": {},
     "output_type": "execute_result"
    }
   ],
   "source": [
    "read_df['Station Area'].unique()"
   ]
  },
  {
   "cell_type": "code",
   "execution_count": 83,
   "metadata": {},
   "outputs": [],
   "source": [
    "from sklearn.model_selection import train_test_split\n",
    "df_feature_train, df_feature_test, df_y_train, df_y_test = train_test_split(df_feature, df_y, test_size = 0.2, random_state = 0)"
   ]
  },
  {
   "cell_type": "code",
   "execution_count": 84,
   "metadata": {},
   "outputs": [
    {
     "data": {
      "text/plain": [
       "(394448, 51)"
      ]
     },
     "execution_count": 84,
     "metadata": {},
     "output_type": "execute_result"
    }
   ],
   "source": [
    "df_feature_train.shape"
   ]
  },
  {
   "cell_type": "code",
   "execution_count": 85,
   "metadata": {},
   "outputs": [
    {
     "data": {
      "text/plain": [
       "(98613, 51)"
      ]
     },
     "execution_count": 85,
     "metadata": {},
     "output_type": "execute_result"
    }
   ],
   "source": [
    "df_feature_test.shape"
   ]
  },
  {
   "cell_type": "code",
   "execution_count": null,
   "metadata": {},
   "outputs": [],
   "source": []
  },
  {
   "cell_type": "code",
   "execution_count": 86,
   "metadata": {},
   "outputs": [],
   "source": [
    "from sklearn.preprocessing import StandardScaler"
   ]
  },
  {
   "cell_type": "code",
   "execution_count": 87,
   "metadata": {},
   "outputs": [
    {
     "name": "stderr",
     "output_type": "stream",
     "text": [
      "C:\\ProgramData\\Anaconda3\\lib\\site-packages\\sklearn\\preprocessing\\data.py:645: DataConversionWarning: Data with input dtype uint8, int64, object were all converted to float64 by StandardScaler.\n",
      "  return self.partial_fit(X, y)\n",
      "C:\\ProgramData\\Anaconda3\\lib\\site-packages\\sklearn\\base.py:464: DataConversionWarning: Data with input dtype uint8, int64, object were all converted to float64 by StandardScaler.\n",
      "  return self.fit(X, **fit_params).transform(X)\n",
      "C:\\ProgramData\\Anaconda3\\lib\\site-packages\\sklearn\\preprocessing\\data.py:645: DataConversionWarning: Data with input dtype uint8, int64, object were all converted to float64 by StandardScaler.\n",
      "  return self.partial_fit(X, y)\n",
      "C:\\ProgramData\\Anaconda3\\lib\\site-packages\\sklearn\\base.py:464: DataConversionWarning: Data with input dtype uint8, int64, object were all converted to float64 by StandardScaler.\n",
      "  return self.fit(X, **fit_params).transform(X)\n"
     ]
    }
   ],
   "source": [
    "sc_X = StandardScaler()\n",
    "X_train = sc_X.fit_transform(df_feature_train)\n",
    "X_test = sc_X.fit_transform(df_feature_test)\n",
    "#sc_y = StandardScaler()\n"
   ]
  },
  {
   "cell_type": "code",
   "execution_count": 88,
   "metadata": {},
   "outputs": [
    {
     "data": {
      "text/plain": [
       "array([[ 1.73091161e+00, -1.61086606e-01, -2.31630590e-01,\n",
       "        -2.62209497e-01, -1.59222952e-03, -1.28258298e-02,\n",
       "        -6.01816326e-03, -1.73654796e-02, -1.91413384e-01,\n",
       "        -1.55454404e+00, -1.01215820e+00, -4.80045301e-01,\n",
       "        -7.15326685e-01, -3.84142177e-01, -4.13160494e-01,\n",
       "        -4.14547138e-01, -3.41180880e-01, -2.86229582e-01,\n",
       "        -2.87817993e-01, -2.41580383e-01, -3.01302827e-01,\n",
       "         3.22223449e+00, -3.11887544e-01, -8.74257401e-02,\n",
       "        -3.10893156e-01, -3.26641010e-01, -1.03141068e-01,\n",
       "        -1.77834130e-01, -2.10739650e-01, -1.71984037e-01,\n",
       "        -2.85326578e-01, -2.71878982e-01, -1.40474009e-01,\n",
       "        -1.89494973e-01, -1.72491212e-01, -2.12133346e-01,\n",
       "        -1.18155954e-01, -1.84469932e-01, -1.55989527e-01,\n",
       "        -1.34217700e-01, -1.61478714e-01, -1.58192342e-01,\n",
       "        -1.97885467e-01, -8.41723934e-02, -6.35377132e-02,\n",
       "        -4.83774027e-02, -1.32375652e-01, -1.55391640e-01,\n",
       "        -1.79390860e-01, -1.37689813e-01, -7.52838976e-02],\n",
       "       [-1.21015355e+00,  6.76563851e-01, -2.31630590e-01,\n",
       "        -2.62209497e-01, -1.59222952e-03, -1.28258298e-02,\n",
       "        -6.01816326e-03, -1.73654796e-02, -1.98932803e+00,\n",
       "        -6.14578096e-01,  1.50456734e+00,  6.43379380e-01,\n",
       "         1.00245376e+00,  2.60320283e+00, -4.13160494e-01,\n",
       "        -4.14547138e-01, -3.41180880e-01, -2.86229582e-01,\n",
       "        -2.87817993e-01, -2.41580383e-01, -3.01302827e-01,\n",
       "        -3.10343646e-01, -3.11887544e-01, -8.74257401e-02,\n",
       "        -3.10893156e-01, -3.26641010e-01, -1.03141068e-01,\n",
       "        -1.77834130e-01, -2.10739650e-01, -1.71984037e-01,\n",
       "        -2.85326578e-01, -2.71878982e-01, -1.40474009e-01,\n",
       "        -1.89494973e-01, -1.72491212e-01, -2.12133346e-01,\n",
       "        -1.18155954e-01, -1.84469932e-01, -1.55989527e-01,\n",
       "        -1.34217700e-01, -1.61478714e-01, -1.58192342e-01,\n",
       "        -1.97885467e-01, -8.41723934e-02, -6.35377132e-02,\n",
       "        -4.83774027e-02, -1.32375652e-01, -1.55391640e-01,\n",
       "        -1.79390860e-01, -1.37689813e-01, -7.52838976e-02],\n",
       "       [ 1.20328306e-01, -5.63802988e-02, -2.31630590e-01,\n",
       "        -2.62209497e-01, -1.59222952e-03, -1.28258298e-02,\n",
       "        -6.01816326e-03, -1.73654796e-02,  7.88844991e-01,\n",
       "         1.18112746e+00, -1.51550330e+00,  1.42241914e-03,\n",
       "        -1.57421691e+00, -3.84142177e-01, -4.13160494e-01,\n",
       "        -4.14547138e-01, -3.41180880e-01,  3.49369898e+00,\n",
       "        -2.87817993e-01, -2.41580383e-01, -3.01302827e-01,\n",
       "        -3.10343646e-01, -3.11887544e-01, -8.74257401e-02,\n",
       "        -3.10893156e-01, -3.26641010e-01, -1.03141068e-01,\n",
       "        -1.77834130e-01, -2.10739650e-01, -1.71984037e-01,\n",
       "        -2.85326578e-01, -2.71878982e-01, -1.40474009e-01,\n",
       "        -1.89494973e-01, -1.72491212e-01, -2.12133346e-01,\n",
       "        -1.18155954e-01, -1.84469932e-01,  6.41068678e+00,\n",
       "        -1.34217700e-01, -1.61478714e-01, -1.58192342e-01,\n",
       "        -1.97885467e-01, -8.41723934e-02, -6.35377132e-02,\n",
       "        -4.83774027e-02, -1.32375652e-01, -1.55391640e-01,\n",
       "        -1.79390860e-01, -1.37689813e-01, -7.52838976e-02],\n",
       "       [-4.39874582e-01,  4.83260083e-02, -2.31630590e-01,\n",
       "        -2.62209497e-01, -1.59222952e-03, -1.28258298e-02,\n",
       "        -6.01816326e-03, -1.73654796e-02,  7.88844991e-01,\n",
       "         1.18449651e+00,  1.00122224e+00, -8.01023782e-01,\n",
       "        -1.42733204e-01, -3.84142177e-01, -4.13160494e-01,\n",
       "         2.41227090e+00, -3.41180880e-01, -2.86229582e-01,\n",
       "        -2.87817993e-01, -2.41580383e-01, -3.01302827e-01,\n",
       "        -3.10343646e-01, -3.11887544e-01, -8.74257401e-02,\n",
       "        -3.10893156e-01, -3.26641010e-01, -1.03141068e-01,\n",
       "         5.62321755e+00, -2.10739650e-01, -1.71984037e-01,\n",
       "        -2.85326578e-01, -2.71878982e-01, -1.40474009e-01,\n",
       "        -1.89494973e-01, -1.72491212e-01, -2.12133346e-01,\n",
       "        -1.18155954e-01, -1.84469932e-01, -1.55989527e-01,\n",
       "        -1.34217700e-01, -1.61478714e-01, -1.58192342e-01,\n",
       "        -1.97885467e-01, -8.41723934e-02, -6.35377132e-02,\n",
       "        -4.83774027e-02, -1.32375652e-01, -1.55391640e-01,\n",
       "        -1.79390860e-01, -1.37689813e-01, -7.52838976e-02],\n",
       "       [-4.39874582e-01, -1.61086606e-01, -2.31630590e-01,\n",
       "        -2.62209497e-01, -1.59222952e-03, -1.28258298e-02,\n",
       "        -6.01816326e-03, -1.73654796e-02,  9.37509768e-01,\n",
       "        -5.80887561e-01, -5.46798003e-03, -3.19556061e-01,\n",
       "         1.57504724e+00,  2.60320283e+00, -4.13160494e-01,\n",
       "        -4.14547138e-01, -3.41180880e-01, -2.86229582e-01,\n",
       "        -2.87817993e-01, -2.41580383e-01, -3.01302827e-01,\n",
       "        -3.10343646e-01, -3.11887544e-01, -8.74257401e-02,\n",
       "        -3.10893156e-01, -3.26641010e-01, -1.03141068e-01,\n",
       "        -1.77834130e-01, -2.10739650e-01,  5.81449313e+00,\n",
       "        -2.85326578e-01, -2.71878982e-01, -1.40474009e-01,\n",
       "        -1.89494973e-01, -1.72491212e-01, -2.12133346e-01,\n",
       "        -1.18155954e-01, -1.84469932e-01, -1.55989527e-01,\n",
       "        -1.34217700e-01, -1.61478714e-01, -1.58192342e-01,\n",
       "        -1.97885467e-01, -8.41723934e-02, -6.35377132e-02,\n",
       "        -4.83774027e-02, -1.32375652e-01, -1.55391640e-01,\n",
       "        -1.79390860e-01, -1.37689813e-01, -7.52838976e-02],\n",
       "       [ 1.17070872e+00,  4.83260083e-02, -2.31630590e-01,\n",
       "        -2.62209497e-01, -1.59222952e-03, -1.28258298e-02,\n",
       "        -6.01816326e-03, -1.73654796e-02, -9.84978986e-02,\n",
       "        -7.12280650e-01, -1.51550330e+00,  1.44582558e+00,\n",
       "        -4.29029944e-01, -3.84142177e-01,  2.42036694e+00,\n",
       "        -4.14547138e-01, -3.41180880e-01, -2.86229582e-01,\n",
       "        -2.87817993e-01, -2.41580383e-01, -3.01302827e-01,\n",
       "        -3.10343646e-01, -3.11887544e-01, -8.74257401e-02,\n",
       "         3.21653913e+00, -3.26641010e-01, -1.03141068e-01,\n",
       "        -1.77834130e-01, -2.10739650e-01, -1.71984037e-01,\n",
       "        -2.85326578e-01, -2.71878982e-01, -1.40474009e-01,\n",
       "        -1.89494973e-01, -1.72491212e-01, -2.12133346e-01,\n",
       "        -1.18155954e-01, -1.84469932e-01, -1.55989527e-01,\n",
       "        -1.34217700e-01, -1.61478714e-01, -1.58192342e-01,\n",
       "        -1.97885467e-01, -8.41723934e-02, -6.35377132e-02,\n",
       "        -4.83774027e-02, -1.32375652e-01, -1.55391640e-01,\n",
       "        -1.79390860e-01, -1.37689813e-01, -7.52838976e-02],\n",
       "       [-7.90001387e-01, -5.63802988e-02, -2.31630590e-01,\n",
       "        -2.62209497e-01, -1.59222952e-03, -1.28258298e-02,\n",
       "        -6.01816326e-03, -1.73654796e-02,  7.88844991e-01,\n",
       "         1.18449651e+00,  1.00122224e+00, -4.80045301e-01,\n",
       "        -1.42733204e-01, -3.84142177e-01, -4.13160494e-01,\n",
       "         2.41227090e+00, -3.41180880e-01, -2.86229582e-01,\n",
       "        -2.87817993e-01, -2.41580383e-01, -3.01302827e-01,\n",
       "        -3.10343646e-01, -3.11887544e-01, -8.74257401e-02,\n",
       "        -3.10893156e-01, -3.26641010e-01, -1.03141068e-01,\n",
       "        -1.77834130e-01,  4.74519152e+00, -1.71984037e-01,\n",
       "        -2.85326578e-01, -2.71878982e-01, -1.40474009e-01,\n",
       "        -1.89494973e-01, -1.72491212e-01, -2.12133346e-01,\n",
       "        -1.18155954e-01, -1.84469932e-01, -1.55989527e-01,\n",
       "        -1.34217700e-01, -1.61478714e-01, -1.58192342e-01,\n",
       "        -1.97885467e-01, -8.41723934e-02, -6.35377132e-02,\n",
       "        -4.83774027e-02, -1.32375652e-01, -1.55391640e-01,\n",
       "        -1.79390860e-01, -1.37689813e-01, -7.52838976e-02],\n",
       "       [-1.00007747e+00,  4.83260083e-02, -2.31630590e-01,\n",
       "        -2.62209497e-01, -1.59222952e-03, -1.28258298e-02,\n",
       "        -6.01816326e-03, -1.73654796e-02,  9.00343574e-01,\n",
       "        -6.14578096e-01,  1.50456734e+00,  9.64357860e-01,\n",
       "        -1.00162343e+00, -3.84142177e-01,  2.42036694e+00,\n",
       "        -4.14547138e-01, -3.41180880e-01, -2.86229582e-01,\n",
       "        -2.87817993e-01, -2.41580383e-01, -3.01302827e-01,\n",
       "        -3.10343646e-01, -3.11887544e-01, -8.74257401e-02,\n",
       "        -3.10893156e-01, -3.26641010e-01, -1.03141068e-01,\n",
       "        -1.77834130e-01, -2.10739650e-01, -1.71984037e-01,\n",
       "        -2.85326578e-01, -2.71878982e-01, -1.40474009e-01,\n",
       "        -1.89494973e-01, -1.72491212e-01,  4.71401607e+00,\n",
       "        -1.18155954e-01, -1.84469932e-01, -1.55989527e-01,\n",
       "        -1.34217700e-01, -1.61478714e-01, -1.58192342e-01,\n",
       "        -1.97885467e-01, -8.41723934e-02, -6.35377132e-02,\n",
       "        -4.83774027e-02, -1.32375652e-01, -1.55391640e-01,\n",
       "        -1.79390860e-01, -1.37689813e-01, -7.52838976e-02],\n",
       "       [ 1.90353667e-01, -5.63802988e-02, -2.31630590e-01,\n",
       "        -2.62209497e-01, -1.59222952e-03, -1.28258298e-02,\n",
       "        -6.01816326e-03, -1.73654796e-02,  7.88844991e-01,\n",
       "         1.17438935e+00, -1.51550330e+00,  3.22400899e-01,\n",
       "         1.28875050e+00, -3.84142177e-01, -4.13160494e-01,\n",
       "        -4.14547138e-01, -3.41180880e-01, -2.86229582e-01,\n",
       "        -2.87817993e-01, -2.41580383e-01,  3.31892007e+00,\n",
       "        -3.10343646e-01, -3.11887544e-01, -8.74257401e-02,\n",
       "        -3.10893156e-01, -3.26641010e-01, -1.03141068e-01,\n",
       "        -1.77834130e-01, -2.10739650e-01, -1.71984037e-01,\n",
       "        -2.85326578e-01, -2.71878982e-01, -1.40474009e-01,\n",
       "        -1.89494973e-01, -1.72491212e-01, -2.12133346e-01,\n",
       "        -1.18155954e-01, -1.84469932e-01, -1.55989527e-01,\n",
       "        -1.34217700e-01,  6.19276668e+00, -1.58192342e-01,\n",
       "        -1.97885467e-01, -8.41723934e-02, -6.35377132e-02,\n",
       "        -4.83774027e-02, -1.32375652e-01, -1.55391640e-01,\n",
       "        -1.79390860e-01, -1.37689813e-01, -7.52838976e-02],\n",
       "       [-5.79925304e-01,  4.83260083e-02, -2.31630590e-01,\n",
       "        -2.62209497e-01, -1.59222952e-03, -1.28258298e-02,\n",
       "        -6.01816326e-03, -1.73654796e-02,  9.00343574e-01,\n",
       "        -6.48268632e-01,  1.00122224e+00,  1.12484710e+00,\n",
       "         1.00245376e+00, -3.84142177e-01, -4.13160494e-01,\n",
       "        -4.14547138e-01, -3.41180880e-01, -2.86229582e-01,\n",
       "         3.47441795e+00, -2.41580383e-01, -3.01302827e-01,\n",
       "        -3.10343646e-01, -3.11887544e-01, -8.74257401e-02,\n",
       "        -3.10893156e-01, -3.26641010e-01, -1.03141068e-01,\n",
       "        -1.77834130e-01, -2.10739650e-01, -1.71984037e-01,\n",
       "        -2.85326578e-01,  3.67810705e+00, -1.40474009e-01,\n",
       "        -1.89494973e-01, -1.72491212e-01, -2.12133346e-01,\n",
       "        -1.18155954e-01, -1.84469932e-01, -1.55989527e-01,\n",
       "        -1.34217700e-01, -1.61478714e-01, -1.58192342e-01,\n",
       "        -1.97885467e-01, -8.41723934e-02, -6.35377132e-02,\n",
       "        -4.83774027e-02, -1.32375652e-01, -1.55391640e-01,\n",
       "        -1.79390860e-01, -1.37689813e-01, -7.52838976e-02]])"
      ]
     },
     "execution_count": 88,
     "metadata": {},
     "output_type": "execute_result"
    }
   ],
   "source": [
    "X_train[:10]"
   ]
  },
  {
   "cell_type": "code",
   "execution_count": 89,
   "metadata": {},
   "outputs": [],
   "source": [
    "# from sklearn.preprocessing import OneHotEncoder"
   ]
  },
  {
   "cell_type": "code",
   "execution_count": 90,
   "metadata": {},
   "outputs": [],
   "source": [
    "# enc = OneHotEncoder()"
   ]
  },
  {
   "cell_type": "code",
   "execution_count": 91,
   "metadata": {},
   "outputs": [],
   "source": [
    "# enc.fit(df_feature)\n"
   ]
  },
  {
   "cell_type": "code",
   "execution_count": 92,
   "metadata": {},
   "outputs": [],
   "source": [
    "# onehotlabels = enc.transform(df_feature)"
   ]
  },
  {
   "cell_type": "code",
   "execution_count": 93,
   "metadata": {},
   "outputs": [],
   "source": [
    "# onehotlabels.shape"
   ]
  },
  {
   "cell_type": "code",
   "execution_count": 94,
   "metadata": {},
   "outputs": [],
   "source": [
    "# from scipy.sparse import csr_matrix\n",
    "\n",
    "# def dataframetoCSRmatrix(df):\n",
    "#     nrows = len(df)\n",
    "#     nc = len(df.columns)\n",
    "#     idx = {}\n",
    "#     tid = 0\n",
    "#     nnz = nc * nrows\n",
    "    \n",
    "#     cols= df.columns\n",
    "    \n",
    "#     for col in cols:\n",
    "#         df[col] = df[col].apply(str)\n",
    "#         for name in df[col].unique():\n",
    "#             idx[col+name] = tid\n",
    "#             tid += 1\n",
    "    \n",
    "#     ncols = len(idx)\n",
    "    \n",
    "#     ind = np.zeros(nnz, dtype=np.int)\n",
    "#     val = np.zeros(nnz, dtype=np.int)\n",
    "#     ptr = np.zeros(nrows+1, dtype=np.int)\n",
    "    \n",
    "#     i=0\n",
    "#     n=0\n",
    "    \n",
    "#     for index,row in df.iterrows():\n",
    "#         for j,col in enumerate(cols):\n",
    "#             ind[j+n] = idx[col+row[col]]\n",
    "#             val[j+n] = 1\n",
    "#         ptr[i+1] = ptr[i] + nc\n",
    "#         n += nc\n",
    "#         i += 1\n",
    "    \n",
    "#     mat = csr_matrix((val,ind,ptr), shape=(nrows,ncols), dtype=np.int)\n",
    "#     mat.sort_indices()   \n",
    "    \n",
    "#     return mat\n",
    "    \n"
   ]
  },
  {
   "cell_type": "code",
   "execution_count": 95,
   "metadata": {},
   "outputs": [],
   "source": [
    "# mat_train = dataframetoCSRmatrix(df_feature)\n",
    "\n",
    "# print(\"Shape of CSR Matrix -\", mat.shape)"
   ]
  },
  {
   "cell_type": "code",
   "execution_count": 99,
   "metadata": {},
   "outputs": [],
   "source": [
    "from sklearn.metrics import explained_variance_score\n",
    "from sklearn.metrics import r2_score\n",
    "from sklearn.metrics import mean_absolute_error\n",
    "from sklearn.metrics import mean_squared_error\n",
    "from sklearn.metrics import median_absolute_error\n",
    "from sklearn.metrics import mean_squared_log_error"
   ]
  },
  {
   "cell_type": "code",
   "execution_count": 106,
   "metadata": {},
   "outputs": [
    {
     "data": {
      "text/plain": [
       "RandomForestRegressor(bootstrap=True, criterion='mse', max_depth=1,\n",
       "           max_features='auto', max_leaf_nodes=None,\n",
       "           min_impurity_decrease=0.0, min_impurity_split=None,\n",
       "           min_samples_leaf=1, min_samples_split=2,\n",
       "           min_weight_fraction_leaf=0.0, n_estimators=10, n_jobs=None,\n",
       "           oob_score=False, random_state=42, verbose=0, warm_start=False)"
      ]
     },
     "execution_count": 106,
     "metadata": {},
     "output_type": "execute_result"
    }
   ],
   "source": [
    "from sklearn.ensemble import RandomForestRegressor\n",
    "\n",
    "rfreg = RandomForestRegressor(n_estimators= 10,max_depth=1, random_state=42)\n",
    "rfreg.fit(X_train, df_y_train)"
   ]
  },
  {
   "cell_type": "code",
   "execution_count": 107,
   "metadata": {},
   "outputs": [],
   "source": [
    "predicted_y = rfreg.predict(X_test)"
   ]
  },
  {
   "cell_type": "code",
   "execution_count": 108,
   "metadata": {},
   "outputs": [
    {
     "name": "stdout",
     "output_type": "stream",
     "text": [
      "r2_score:  0.09886122061720781\n",
      "explained_variance_score:  0.0990421369331228\n",
      "mean_absolute_error:  3.164011714401952\n",
      "mean_squared_error:  267.97389033437105\n",
      "median_absolute_error:  3.2754816291871878\n",
      "mean_squared_log_error:  0.1824435782140533\n"
     ]
    }
   ],
   "source": [
    "print(\"r2_score: \",r2_score(df_y_test, predicted_y))\n",
    "print(\"explained_variance_score: \",explained_variance_score(df_y_test, predicted_y))\n",
    "print(\"mean_absolute_error: \",mean_absolute_error(df_y_test, predicted_y))\n",
    "print(\"mean_squared_error: \",mean_squared_error(df_y_test, predicted_y))\n",
    "print(\"median_absolute_error: \",median_absolute_error(df_y_test, predicted_y))\n",
    "print(\"mean_squared_log_error: \",mean_squared_log_error(df_y_test, predicted_y))"
   ]
  },
  {
   "cell_type": "code",
   "execution_count": 42,
   "metadata": {},
   "outputs": [
    {
     "data": {
      "text/plain": [
       "{7.724518370812812, 31.00111747250937}"
      ]
     },
     "execution_count": 42,
     "metadata": {},
     "output_type": "execute_result"
    }
   ],
   "source": [
    "set(predicted_y)"
   ]
  },
  {
   "cell_type": "code",
   "execution_count": null,
   "metadata": {},
   "outputs": [],
   "source": [
    "predicted_y[:100]"
   ]
  },
  {
   "cell_type": "code",
   "execution_count": 20,
   "metadata": {},
   "outputs": [],
   "source": [
    "from sklearn import linear_model\n",
    "from sklearn.model_selection import KFold\n",
    "from sklearn.model_selection import cross_val_score"
   ]
  },
  {
   "cell_type": "code",
   "execution_count": 21,
   "metadata": {},
   "outputs": [],
   "source": [
    "def lasso(x_train, x_validation,  y_train, y_validation):\n",
    "    reg = linear_model.Lasso(alpha = 0.1)\n",
    "    # X = np.array(X).reshape([-1, 1])\n",
    "    reg.fit(x_train,y_train)\n",
    "    y_pred_list = reg.predict(x_validation)\n",
    "    mse = mean_squared_error(y_validation, y_pred_list)\n",
    "    kfold = KFold(n_splits=10, shuffle=True, random_state=34234)\n",
    "    cross_val_scores = cross_val_score(reg, x_train, y_train, cv=kfold)\n",
    "    print(\"\\nLasso Regression Model\")\n",
    "    print(cross_val_scores, mse)\n",
    "    return cross_val_scores, mse"
   ]
  },
  {
   "cell_type": "code",
   "execution_count": 22,
   "metadata": {},
   "outputs": [
    {
     "name": "stdout",
     "output_type": "stream",
     "text": [
      "\n",
      "Lasso Regression Model\n",
      "[ 0.01669531  0.02085769 -0.34071275  0.16357979  0.01489059 -0.10910922\n",
      "  0.01390114  0.01143303  0.01604084  0.33706704] 293.7174469346319\n"
     ]
    },
    {
     "data": {
      "text/plain": [
       "(array([ 0.01669531,  0.02085769, -0.34071275,  0.16357979,  0.01489059,\n",
       "        -0.10910922,  0.01390114,  0.01143303,  0.01604084,  0.33706704]),\n",
       " 293.7174469346319)"
      ]
     },
     "execution_count": 22,
     "metadata": {},
     "output_type": "execute_result"
    }
   ],
   "source": [
    "lasso(X_train,X_test, df_y_train, df_y_test)"
   ]
  },
  {
   "cell_type": "code",
   "execution_count": null,
   "metadata": {},
   "outputs": [],
   "source": [
    "# mat_test = dataframetoCSRmatrix(df_feature)"
   ]
  },
  {
   "cell_type": "code",
   "execution_count": null,
   "metadata": {},
   "outputs": [],
   "source": [
    "from sklearn.externals import joblib \n",
    "  "
   ]
  },
  {
   "cell_type": "code",
   "execution_count": null,
   "metadata": {},
   "outputs": [],
   "source": [
    "joblib.dump(rfclf, 'sf.pkl') "
   ]
  }
 ],
 "metadata": {
  "kernelspec": {
   "display_name": "Python 3",
   "language": "python",
   "name": "python3"
  },
  "language_info": {
   "codemirror_mode": {
    "name": "ipython",
    "version": 3
   },
   "file_extension": ".py",
   "mimetype": "text/x-python",
   "name": "python",
   "nbconvert_exporter": "python",
   "pygments_lexer": "ipython3",
   "version": "3.7.1"
  }
 },
 "nbformat": 4,
 "nbformat_minor": 2
}
